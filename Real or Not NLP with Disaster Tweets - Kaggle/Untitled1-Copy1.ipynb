{
 "cells": [
  {
   "cell_type": "code",
   "execution_count": 1,
   "metadata": {},
   "outputs": [],
   "source": [
    "import pandas as pd\n",
    "import numpy as np\n",
    "import nltk\n",
    "import re\n",
    "import string\n",
    "import matplotlib.pyplot as plt\n",
    "\n",
    "from nltk.corpus import stopwords\n",
    "import os\n",
    "\n",
    "from sklearn.model_selection import train_test_split"
   ]
  },
  {
   "cell_type": "code",
   "execution_count": 2,
   "metadata": {},
   "outputs": [],
   "source": [
    "# nltk.download()"
   ]
  },
  {
   "cell_type": "code",
   "execution_count": 3,
   "metadata": {},
   "outputs": [],
   "source": [
    "sw=stopwords.words('english')"
   ]
  },
  {
   "cell_type": "code",
   "execution_count": 4,
   "metadata": {},
   "outputs": [
    {
     "data": {
      "text/plain": [
       "'C:\\\\Users\\\\jashj\\\\Desktop\\\\Kaggle'"
      ]
     },
     "execution_count": 4,
     "metadata": {},
     "output_type": "execute_result"
    }
   ],
   "source": [
    "cwd=os.getcwd()\n",
    "cwd"
   ]
  },
  {
   "cell_type": "code",
   "execution_count": 5,
   "metadata": {},
   "outputs": [
    {
     "data": {
      "text/plain": [
       "['.ipynb_checkpoints',\n",
       " 'answers.csv',\n",
       " 'answers_cv.csv',\n",
       " 'nlp-getting-started.zip',\n",
       " 'Original-Copy1.ipynb',\n",
       " 'Original.ipynb',\n",
       " 'sample_submission.csv',\n",
       " 'test - Copy.csv',\n",
       " 'test.csv',\n",
       " 'train.csv',\n",
       " 'Untitled-Copy1.ipynb',\n",
       " 'Untitled.ipynb',\n",
       " 'untitled0.py',\n",
       " 'Untitled1-Copy1.ipynb',\n",
       " 'Untitled1.ipynb',\n",
       " 'Untitled2.ipynb']"
      ]
     },
     "execution_count": 5,
     "metadata": {},
     "output_type": "execute_result"
    }
   ],
   "source": [
    "os.listdir(cwd)"
   ]
  },
  {
   "cell_type": "code",
   "execution_count": 6,
   "metadata": {},
   "outputs": [],
   "source": [
    "# os.chdir('Kaggle')"
   ]
  },
  {
   "cell_type": "code",
   "execution_count": 7,
   "metadata": {},
   "outputs": [],
   "source": [
    "data=pd.read_csv('train.csv')"
   ]
  },
  {
   "cell_type": "code",
   "execution_count": null,
   "metadata": {},
   "outputs": [],
   "source": []
  },
  {
   "cell_type": "code",
   "execution_count": 8,
   "metadata": {},
   "outputs": [
    {
     "data": {
      "text/plain": [
       "Index(['id', 'keyword', 'location', 'text', 'target'], dtype='object')"
      ]
     },
     "execution_count": 8,
     "metadata": {},
     "output_type": "execute_result"
    }
   ],
   "source": [
    "data.columns"
   ]
  },
  {
   "cell_type": "code",
   "execution_count": null,
   "metadata": {},
   "outputs": [],
   "source": []
  },
  {
   "cell_type": "code",
   "execution_count": 9,
   "metadata": {},
   "outputs": [],
   "source": [
    "data['keyword'] = data['keyword'].fillna('missingkeyword')"
   ]
  },
  {
   "cell_type": "code",
   "execution_count": 10,
   "metadata": {},
   "outputs": [],
   "source": [
    "data['location'] = data['location'].fillna('missinglocation')"
   ]
  },
  {
   "cell_type": "code",
   "execution_count": null,
   "metadata": {},
   "outputs": [],
   "source": []
  },
  {
   "cell_type": "code",
   "execution_count": null,
   "metadata": {},
   "outputs": [],
   "source": []
  },
  {
   "cell_type": "code",
   "execution_count": 11,
   "metadata": {},
   "outputs": [],
   "source": [
    "data['combined']=data['keyword']+str(' ')+data['location']+str(' ')+data['text']"
   ]
  },
  {
   "cell_type": "code",
   "execution_count": null,
   "metadata": {},
   "outputs": [],
   "source": []
  },
  {
   "cell_type": "code",
   "execution_count": 12,
   "metadata": {},
   "outputs": [
    {
     "data": {
      "text/plain": [
       "'!\"#$%&\\'()*+,-./:;<=>?@[\\\\]^_`{|}~'"
      ]
     },
     "execution_count": 12,
     "metadata": {},
     "output_type": "execute_result"
    }
   ],
   "source": [
    "string.punctuation"
   ]
  },
  {
   "cell_type": "code",
   "execution_count": null,
   "metadata": {},
   "outputs": [],
   "source": []
  },
  {
   "cell_type": "code",
   "execution_count": 13,
   "metadata": {},
   "outputs": [],
   "source": [
    "data['tokenized']=data['combined'].apply(lambda x : re.split('\\s',x))"
   ]
  },
  {
   "cell_type": "code",
   "execution_count": 14,
   "metadata": {},
   "outputs": [],
   "source": [
    "data['nostop']=data['tokenized'].apply(lambda x: [word for word in x if word.lower() not in sw])"
   ]
  },
  {
   "cell_type": "code",
   "execution_count": null,
   "metadata": {},
   "outputs": [],
   "source": []
  },
  {
   "cell_type": "code",
   "execution_count": 15,
   "metadata": {},
   "outputs": [],
   "source": [
    "data['join']=data['nostop'].apply(lambda y:' '.join(y))"
   ]
  },
  {
   "cell_type": "code",
   "execution_count": 16,
   "metadata": {},
   "outputs": [],
   "source": [
    "data['nopunct']=data['join'].apply(lambda x : ''.join(y for y in x if y not in string.punctuation))"
   ]
  },
  {
   "cell_type": "code",
   "execution_count": 17,
   "metadata": {},
   "outputs": [
    {
     "data": {
      "text/plain": [
       "'missingkeyword missinglocation 13000 people receive wildfires evacuation orders California '"
      ]
     },
     "execution_count": 17,
     "metadata": {},
     "output_type": "execute_result"
    }
   ],
   "source": [
    "data['nopunct'][3]"
   ]
  },
  {
   "cell_type": "code",
   "execution_count": null,
   "metadata": {},
   "outputs": [],
   "source": []
  },
  {
   "cell_type": "code",
   "execution_count": null,
   "metadata": {},
   "outputs": [],
   "source": []
  },
  {
   "cell_type": "code",
   "execution_count": 18,
   "metadata": {},
   "outputs": [],
   "source": [
    "data['withoutspaces']=data['nopunct'].apply(lambda x : x.strip())"
   ]
  },
  {
   "cell_type": "code",
   "execution_count": null,
   "metadata": {},
   "outputs": [],
   "source": []
  },
  {
   "cell_type": "code",
   "execution_count": 19,
   "metadata": {},
   "outputs": [],
   "source": [
    "data['length']=data['withoutspaces'].apply(lambda x : len(x))"
   ]
  },
  {
   "cell_type": "code",
   "execution_count": null,
   "metadata": {},
   "outputs": [],
   "source": []
  },
  {
   "cell_type": "code",
   "execution_count": 20,
   "metadata": {},
   "outputs": [
    {
     "data": {
      "image/png": "[encoded data removed]",
      "text/plain": [
       "<Figure size 432x288 with 1 Axes>"
      ]
     },
     "metadata": {
      "needs_background": "light"
     },
     "output_type": "display_data"
    }
   ],
   "source": [
    "plt.hist(data[data['target']==0]['length'], alpha=0.5, label='0')\n",
    "plt.hist(data[data['target']==1]['length'], alpha=0.5, label='1')\n",
    "plt.legend(loc='upper right')\n",
    "plt.show()"
   ]
  },
  {
   "cell_type": "code",
   "execution_count": null,
   "metadata": {},
   "outputs": [],
   "source": []
  },
  {
   "cell_type": "code",
   "execution_count": 21,
   "metadata": {},
   "outputs": [
    {
     "data": {
      "text/plain": [
       "0"
      ]
     },
     "execution_count": 21,
     "metadata": {},
     "output_type": "execute_result"
    }
   ],
   "source": [
    "data['join'][0].count(string.punctuation)"
   ]
  },
  {
   "cell_type": "code",
   "execution_count": 22,
   "metadata": {},
   "outputs": [],
   "source": [
    "data['punctcount']=data['join'].apply(lambda x : sum([1 for y in x if y in string.punctuation]))"
   ]
  },
  {
   "cell_type": "code",
   "execution_count": 23,
   "metadata": {},
   "outputs": [
    {
     "data": {
      "image/png": "[encoded data removed]",
      "text/plain": [
       "<Figure size 432x288 with 1 Axes>"
      ]
     },
     "metadata": {
      "needs_background": "light"
     },
     "output_type": "display_data"
    }
   ],
   "source": [
    "plt.hist(data[data['target']==0]['punctcount'], alpha=0.5, label='0')\n",
    "plt.hist(data[data['target']==1]['punctcount'], alpha=0.5, label='1')\n",
    "plt.legend(loc='upper right')\n",
    "plt.show()"
   ]
  },
  {
   "cell_type": "code",
   "execution_count": null,
   "metadata": {},
   "outputs": [],
   "source": []
  },
  {
   "cell_type": "code",
   "execution_count": null,
   "metadata": {},
   "outputs": [],
   "source": []
  },
  {
   "cell_type": "code",
   "execution_count": 24,
   "metadata": {},
   "outputs": [],
   "source": [
    "data['punctpercent']=data['punctcount']/data['length']*100"
   ]
  },
  {
   "cell_type": "code",
   "execution_count": 25,
   "metadata": {},
   "outputs": [
    {
     "data": {
      "text/html": [
       "<div>\n",
       "<style scoped>\n",
       "    .dataframe tbody tr th:only-of-type {\n",
       "        vertical-align: middle;\n",
       "    }\n",
       "\n",
       "    .dataframe tbody tr th {\n",
       "        vertical-align: top;\n",
       "    }\n",
       "\n",
       "    .dataframe thead th {\n",
       "        text-align: right;\n",
       "    }\n",
       "</style>\n",
       "<table border=\"1\" class=\"dataframe\">\n",
       "  <thead>\n",
       "    <tr style=\"text-align: right;\">\n",
       "      <th></th>\n",
       "      <th>id</th>\n",
       "      <th>keyword</th>\n",
       "      <th>location</th>\n",
       "      <th>text</th>\n",
       "      <th>target</th>\n",
       "      <th>combined</th>\n",
       "      <th>tokenized</th>\n",
       "      <th>nostop</th>\n",
       "      <th>join</th>\n",
       "      <th>nopunct</th>\n",
       "      <th>withoutspaces</th>\n",
       "      <th>length</th>\n",
       "      <th>punctcount</th>\n",
       "      <th>punctpercent</th>\n",
       "    </tr>\n",
       "  </thead>\n",
       "  <tbody>\n",
       "    <tr>\n",
       "      <td>0</td>\n",
       "      <td>1</td>\n",
       "      <td>missingkeyword</td>\n",
       "      <td>missinglocation</td>\n",
       "      <td>Our Deeds are the Reason of this #earthquake M...</td>\n",
       "      <td>1</td>\n",
       "      <td>missingkeyword missinglocation Our Deeds are t...</td>\n",
       "      <td>[missingkeyword, missinglocation, Our, Deeds, ...</td>\n",
       "      <td>[missingkeyword, missinglocation, Deeds, Reaso...</td>\n",
       "      <td>missingkeyword missinglocation Deeds Reason #e...</td>\n",
       "      <td>missingkeyword missinglocation Deeds Reason ea...</td>\n",
       "      <td>missingkeyword missinglocation Deeds Reason ea...</td>\n",
       "      <td>75</td>\n",
       "      <td>1</td>\n",
       "      <td>1.333333</td>\n",
       "    </tr>\n",
       "    <tr>\n",
       "      <td>1</td>\n",
       "      <td>4</td>\n",
       "      <td>missingkeyword</td>\n",
       "      <td>missinglocation</td>\n",
       "      <td>Forest fire near La Ronge Sask. Canada</td>\n",
       "      <td>1</td>\n",
       "      <td>missingkeyword missinglocation Forest fire nea...</td>\n",
       "      <td>[missingkeyword, missinglocation, Forest, fire...</td>\n",
       "      <td>[missingkeyword, missinglocation, Forest, fire...</td>\n",
       "      <td>missingkeyword missinglocation Forest fire nea...</td>\n",
       "      <td>missingkeyword missinglocation Forest fire nea...</td>\n",
       "      <td>missingkeyword missinglocation Forest fire nea...</td>\n",
       "      <td>68</td>\n",
       "      <td>1</td>\n",
       "      <td>1.470588</td>\n",
       "    </tr>\n",
       "    <tr>\n",
       "      <td>2</td>\n",
       "      <td>5</td>\n",
       "      <td>missingkeyword</td>\n",
       "      <td>missinglocation</td>\n",
       "      <td>All residents asked to 'shelter in place' are ...</td>\n",
       "      <td>1</td>\n",
       "      <td>missingkeyword missinglocation All residents a...</td>\n",
       "      <td>[missingkeyword, missinglocation, All, residen...</td>\n",
       "      <td>[missingkeyword, missinglocation, residents, a...</td>\n",
       "      <td>missingkeyword missinglocation residents asked...</td>\n",
       "      <td>missingkeyword missinglocation residents asked...</td>\n",
       "      <td>missingkeyword missinglocation residents asked...</td>\n",
       "      <td>119</td>\n",
       "      <td>3</td>\n",
       "      <td>2.521008</td>\n",
       "    </tr>\n",
       "    <tr>\n",
       "      <td>3</td>\n",
       "      <td>6</td>\n",
       "      <td>missingkeyword</td>\n",
       "      <td>missinglocation</td>\n",
       "      <td>13,000 people receive #wildfires evacuation or...</td>\n",
       "      <td>1</td>\n",
       "      <td>missingkeyword missinglocation 13,000 people r...</td>\n",
       "      <td>[missingkeyword, missinglocation, 13,000, peop...</td>\n",
       "      <td>[missingkeyword, missinglocation, 13,000, peop...</td>\n",
       "      <td>missingkeyword missinglocation 13,000 people r...</td>\n",
       "      <td>missingkeyword missinglocation 13000 people re...</td>\n",
       "      <td>missingkeyword missinglocation 13000 people re...</td>\n",
       "      <td>90</td>\n",
       "      <td>2</td>\n",
       "      <td>2.222222</td>\n",
       "    </tr>\n",
       "    <tr>\n",
       "      <td>4</td>\n",
       "      <td>7</td>\n",
       "      <td>missingkeyword</td>\n",
       "      <td>missinglocation</td>\n",
       "      <td>Just got sent this photo from Ruby #Alaska as ...</td>\n",
       "      <td>1</td>\n",
       "      <td>missingkeyword missinglocation Just got sent t...</td>\n",
       "      <td>[missingkeyword, missinglocation, Just, got, s...</td>\n",
       "      <td>[missingkeyword, missinglocation, got, sent, p...</td>\n",
       "      <td>missingkeyword missinglocation got sent photo ...</td>\n",
       "      <td>missingkeyword missinglocation got sent photo ...</td>\n",
       "      <td>missingkeyword missinglocation got sent photo ...</td>\n",
       "      <td>86</td>\n",
       "      <td>2</td>\n",
       "      <td>2.325581</td>\n",
       "    </tr>\n",
       "    <tr>\n",
       "      <td>...</td>\n",
       "      <td>...</td>\n",
       "      <td>...</td>\n",
       "      <td>...</td>\n",
       "      <td>...</td>\n",
       "      <td>...</td>\n",
       "      <td>...</td>\n",
       "      <td>...</td>\n",
       "      <td>...</td>\n",
       "      <td>...</td>\n",
       "      <td>...</td>\n",
       "      <td>...</td>\n",
       "      <td>...</td>\n",
       "      <td>...</td>\n",
       "      <td>...</td>\n",
       "    </tr>\n",
       "    <tr>\n",
       "      <td>7608</td>\n",
       "      <td>10869</td>\n",
       "      <td>missingkeyword</td>\n",
       "      <td>missinglocation</td>\n",
       "      <td>Two giant cranes holding a bridge collapse int...</td>\n",
       "      <td>1</td>\n",
       "      <td>missingkeyword missinglocation Two giant crane...</td>\n",
       "      <td>[missingkeyword, missinglocation, Two, giant, ...</td>\n",
       "      <td>[missingkeyword, missinglocation, Two, giant, ...</td>\n",
       "      <td>missingkeyword missinglocation Two giant crane...</td>\n",
       "      <td>missingkeyword missinglocation Two giant crane...</td>\n",
       "      <td>missingkeyword missinglocation Two giant crane...</td>\n",
       "      <td>102</td>\n",
       "      <td>5</td>\n",
       "      <td>4.901961</td>\n",
       "    </tr>\n",
       "    <tr>\n",
       "      <td>7609</td>\n",
       "      <td>10870</td>\n",
       "      <td>missingkeyword</td>\n",
       "      <td>missinglocation</td>\n",
       "      <td>@aria_ahrary @TheTawniest The out of control w...</td>\n",
       "      <td>1</td>\n",
       "      <td>missingkeyword missinglocation @aria_ahrary @T...</td>\n",
       "      <td>[missingkeyword, missinglocation, @aria_ahrary...</td>\n",
       "      <td>[missingkeyword, missinglocation, @aria_ahrary...</td>\n",
       "      <td>missingkeyword missinglocation @aria_ahrary @T...</td>\n",
       "      <td>missingkeyword missinglocation ariaahrary TheT...</td>\n",
       "      <td>missingkeyword missinglocation ariaahrary TheT...</td>\n",
       "      <td>118</td>\n",
       "      <td>5</td>\n",
       "      <td>4.237288</td>\n",
       "    </tr>\n",
       "    <tr>\n",
       "      <td>7610</td>\n",
       "      <td>10871</td>\n",
       "      <td>missingkeyword</td>\n",
       "      <td>missinglocation</td>\n",
       "      <td>M1.94 [01:04 UTC]?5km S of Volcano Hawaii. htt...</td>\n",
       "      <td>1</td>\n",
       "      <td>missingkeyword missinglocation M1.94 [01:04 UT...</td>\n",
       "      <td>[missingkeyword, missinglocation, M1.94, [01:0...</td>\n",
       "      <td>[missingkeyword, missinglocation, M1.94, [01:0...</td>\n",
       "      <td>missingkeyword missinglocation M1.94 [01:04 UT...</td>\n",
       "      <td>missingkeyword missinglocation M194 0104 UTC5k...</td>\n",
       "      <td>missingkeyword missinglocation M194 0104 UTC5k...</td>\n",
       "      <td>80</td>\n",
       "      <td>11</td>\n",
       "      <td>13.750000</td>\n",
       "    </tr>\n",
       "    <tr>\n",
       "      <td>7611</td>\n",
       "      <td>10872</td>\n",
       "      <td>missingkeyword</td>\n",
       "      <td>missinglocation</td>\n",
       "      <td>Police investigating after an e-bike collided ...</td>\n",
       "      <td>1</td>\n",
       "      <td>missingkeyword missinglocation Police investig...</td>\n",
       "      <td>[missingkeyword, missinglocation, Police, inve...</td>\n",
       "      <td>[missingkeyword, missinglocation, Police, inve...</td>\n",
       "      <td>missingkeyword missinglocation Police investig...</td>\n",
       "      <td>missingkeyword missinglocation Police investig...</td>\n",
       "      <td>missingkeyword missinglocation Police investig...</td>\n",
       "      <td>144</td>\n",
       "      <td>5</td>\n",
       "      <td>3.472222</td>\n",
       "    </tr>\n",
       "    <tr>\n",
       "      <td>7612</td>\n",
       "      <td>10873</td>\n",
       "      <td>missingkeyword</td>\n",
       "      <td>missinglocation</td>\n",
       "      <td>The Latest: More Homes Razed by Northern Calif...</td>\n",
       "      <td>1</td>\n",
       "      <td>missingkeyword missinglocation The Latest: Mor...</td>\n",
       "      <td>[missingkeyword, missinglocation, The, Latest:...</td>\n",
       "      <td>[missingkeyword, missinglocation, Latest:, Hom...</td>\n",
       "      <td>missingkeyword missinglocation Latest: Homes R...</td>\n",
       "      <td>missingkeyword missinglocation Latest Homes Ra...</td>\n",
       "      <td>missingkeyword missinglocation Latest Homes Ra...</td>\n",
       "      <td>106</td>\n",
       "      <td>7</td>\n",
       "      <td>6.603774</td>\n",
       "    </tr>\n",
       "  </tbody>\n",
       "</table>\n",
       "<p>7613 rows × 14 columns</p>\n",
       "</div>"
      ],
      "text/plain": [
       "         id         keyword         location  \\\n",
       "0         1  missingkeyword  missinglocation   \n",
       "1         4  missingkeyword  missinglocation   \n",
       "2         5  missingkeyword  missinglocation   \n",
       "3         6  missingkeyword  missinglocation   \n",
       "4         7  missingkeyword  missinglocation   \n",
       "...     ...             ...              ...   \n",
       "7608  10869  missingkeyword  missinglocation   \n",
       "7609  10870  missingkeyword  missinglocation   \n",
       "7610  10871  missingkeyword  missinglocation   \n",
       "7611  10872  missingkeyword  missinglocation   \n",
       "7612  10873  missingkeyword  missinglocation   \n",
       "\n",
       "                                                   text  target  \\\n",
       "0     Our Deeds are the Reason of this #earthquake M...       1   \n",
       "1                Forest fire near La Ronge Sask. Canada       1   \n",
       "2     All residents asked to 'shelter in place' are ...       1   \n",
       "3     13,000 people receive #wildfires evacuation or...       1   \n",
       "4     Just got sent this photo from Ruby #Alaska as ...       1   \n",
       "...                                                 ...     ...   \n",
       "7608  Two giant cranes holding a bridge collapse int...       1   \n",
       "7609  @aria_ahrary @TheTawniest The out of control w...       1   \n",
       "7610  M1.94 [01:04 UTC]?5km S of Volcano Hawaii. htt...       1   \n",
       "7611  Police investigating after an e-bike collided ...       1   \n",
       "7612  The Latest: More Homes Razed by Northern Calif...       1   \n",
       "\n",
       "                                               combined  \\\n",
       "0     missingkeyword missinglocation Our Deeds are t...   \n",
       "1     missingkeyword missinglocation Forest fire nea...   \n",
       "2     missingkeyword missinglocation All residents a...   \n",
       "3     missingkeyword missinglocation 13,000 people r...   \n",
       "4     missingkeyword missinglocation Just got sent t...   \n",
       "...                                                 ...   \n",
       "7608  missingkeyword missinglocation Two giant crane...   \n",
       "7609  missingkeyword missinglocation @aria_ahrary @T...   \n",
       "7610  missingkeyword missinglocation M1.94 [01:04 UT...   \n",
       "7611  missingkeyword missinglocation Police investig...   \n",
       "7612  missingkeyword missinglocation The Latest: Mor...   \n",
       "\n",
       "                                              tokenized  \\\n",
       "0     [missingkeyword, missinglocation, Our, Deeds, ...   \n",
       "1     [missingkeyword, missinglocation, Forest, fire...   \n",
       "2     [missingkeyword, missinglocation, All, residen...   \n",
       "3     [missingkeyword, missinglocation, 13,000, peop...   \n",
       "4     [missingkeyword, missinglocation, Just, got, s...   \n",
       "...                                                 ...   \n",
       "7608  [missingkeyword, missinglocation, Two, giant, ...   \n",
       "7609  [missingkeyword, missinglocation, @aria_ahrary...   \n",
       "7610  [missingkeyword, missinglocation, M1.94, [01:0...   \n",
       "7611  [missingkeyword, missinglocation, Police, inve...   \n",
       "7612  [missingkeyword, missinglocation, The, Latest:...   \n",
       "\n",
       "                                                 nostop  \\\n",
       "0     [missingkeyword, missinglocation, Deeds, Reaso...   \n",
       "1     [missingkeyword, missinglocation, Forest, fire...   \n",
       "2     [missingkeyword, missinglocation, residents, a...   \n",
       "3     [missingkeyword, missinglocation, 13,000, peop...   \n",
       "4     [missingkeyword, missinglocation, got, sent, p...   \n",
       "...                                                 ...   \n",
       "7608  [missingkeyword, missinglocation, Two, giant, ...   \n",
       "7609  [missingkeyword, missinglocation, @aria_ahrary...   \n",
       "7610  [missingkeyword, missinglocation, M1.94, [01:0...   \n",
       "7611  [missingkeyword, missinglocation, Police, inve...   \n",
       "7612  [missingkeyword, missinglocation, Latest:, Hom...   \n",
       "\n",
       "                                                   join  \\\n",
       "0     missingkeyword missinglocation Deeds Reason #e...   \n",
       "1     missingkeyword missinglocation Forest fire nea...   \n",
       "2     missingkeyword missinglocation residents asked...   \n",
       "3     missingkeyword missinglocation 13,000 people r...   \n",
       "4     missingkeyword missinglocation got sent photo ...   \n",
       "...                                                 ...   \n",
       "7608  missingkeyword missinglocation Two giant crane...   \n",
       "7609  missingkeyword missinglocation @aria_ahrary @T...   \n",
       "7610  missingkeyword missinglocation M1.94 [01:04 UT...   \n",
       "7611  missingkeyword missinglocation Police investig...   \n",
       "7612  missingkeyword missinglocation Latest: Homes R...   \n",
       "\n",
       "                                                nopunct  \\\n",
       "0     missingkeyword missinglocation Deeds Reason ea...   \n",
       "1     missingkeyword missinglocation Forest fire nea...   \n",
       "2     missingkeyword missinglocation residents asked...   \n",
       "3     missingkeyword missinglocation 13000 people re...   \n",
       "4     missingkeyword missinglocation got sent photo ...   \n",
       "...                                                 ...   \n",
       "7608  missingkeyword missinglocation Two giant crane...   \n",
       "7609  missingkeyword missinglocation ariaahrary TheT...   \n",
       "7610  missingkeyword missinglocation M194 0104 UTC5k...   \n",
       "7611  missingkeyword missinglocation Police investig...   \n",
       "7612  missingkeyword missinglocation Latest Homes Ra...   \n",
       "\n",
       "                                          withoutspaces  length  punctcount  \\\n",
       "0     missingkeyword missinglocation Deeds Reason ea...      75           1   \n",
       "1     missingkeyword missinglocation Forest fire nea...      68           1   \n",
       "2     missingkeyword missinglocation residents asked...     119           3   \n",
       "3     missingkeyword missinglocation 13000 people re...      90           2   \n",
       "4     missingkeyword missinglocation got sent photo ...      86           2   \n",
       "...                                                 ...     ...         ...   \n",
       "7608  missingkeyword missinglocation Two giant crane...     102           5   \n",
       "7609  missingkeyword missinglocation ariaahrary TheT...     118           5   \n",
       "7610  missingkeyword missinglocation M194 0104 UTC5k...      80          11   \n",
       "7611  missingkeyword missinglocation Police investig...     144           5   \n",
       "7612  missingkeyword missinglocation Latest Homes Ra...     106           7   \n",
       "\n",
       "      punctpercent  \n",
       "0         1.333333  \n",
       "1         1.470588  \n",
       "2         2.521008  \n",
       "3         2.222222  \n",
       "4         2.325581  \n",
       "...            ...  \n",
       "7608      4.901961  \n",
       "7609      4.237288  \n",
       "7610     13.750000  \n",
       "7611      3.472222  \n",
       "7612      6.603774  \n",
       "\n",
       "[7613 rows x 14 columns]"
      ]
     },
     "execution_count": 25,
     "metadata": {},
     "output_type": "execute_result"
    }
   ],
   "source": [
    "data"
   ]
  },
  {
   "cell_type": "code",
   "execution_count": 26,
   "metadata": {},
   "outputs": [
    {
     "data": {
      "image/png": "[encoded data removed]",
      "text/plain": [
       "<Figure size 432x288 with 1 Axes>"
      ]
     },
     "metadata": {
      "needs_background": "light"
     },
     "output_type": "display_data"
    }
   ],
   "source": [
    "plt.hist(data[data['target']==0]['punctpercent'], alpha=0.5, label='0')\n",
    "plt.hist(data[data['target']==1]['punctpercent'], alpha=0.5, label='1')\n",
    "plt.legend(loc='upper right')\n",
    "plt.show()"
   ]
  },
  {
   "cell_type": "code",
   "execution_count": null,
   "metadata": {},
   "outputs": [],
   "source": []
  },
  {
   "cell_type": "code",
   "execution_count": 27,
   "metadata": {},
   "outputs": [],
   "source": [
    "X=data.drop(columns='target')\n",
    "y=data['target']"
   ]
  },
  {
   "cell_type": "code",
   "execution_count": 28,
   "metadata": {},
   "outputs": [
    {
     "data": {
      "text/html": [
       "<div>\n",
       "<style scoped>\n",
       "    .dataframe tbody tr th:only-of-type {\n",
       "        vertical-align: middle;\n",
       "    }\n",
       "\n",
       "    .dataframe tbody tr th {\n",
       "        vertical-align: top;\n",
       "    }\n",
       "\n",
       "    .dataframe thead th {\n",
       "        text-align: right;\n",
       "    }\n",
       "</style>\n",
       "<table border=\"1\" class=\"dataframe\">\n",
       "  <thead>\n",
       "    <tr style=\"text-align: right;\">\n",
       "      <th></th>\n",
       "      <th>id</th>\n",
       "      <th>keyword</th>\n",
       "      <th>location</th>\n",
       "      <th>text</th>\n",
       "      <th>combined</th>\n",
       "      <th>tokenized</th>\n",
       "      <th>nostop</th>\n",
       "      <th>join</th>\n",
       "      <th>nopunct</th>\n",
       "      <th>withoutspaces</th>\n",
       "      <th>length</th>\n",
       "      <th>punctcount</th>\n",
       "      <th>punctpercent</th>\n",
       "    </tr>\n",
       "  </thead>\n",
       "  <tbody>\n",
       "    <tr>\n",
       "      <td>0</td>\n",
       "      <td>1</td>\n",
       "      <td>missingkeyword</td>\n",
       "      <td>missinglocation</td>\n",
       "      <td>Our Deeds are the Reason of this #earthquake M...</td>\n",
       "      <td>missingkeyword missinglocation Our Deeds are t...</td>\n",
       "      <td>[missingkeyword, missinglocation, Our, Deeds, ...</td>\n",
       "      <td>[missingkeyword, missinglocation, Deeds, Reaso...</td>\n",
       "      <td>missingkeyword missinglocation Deeds Reason #e...</td>\n",
       "      <td>missingkeyword missinglocation Deeds Reason ea...</td>\n",
       "      <td>missingkeyword missinglocation Deeds Reason ea...</td>\n",
       "      <td>75</td>\n",
       "      <td>1</td>\n",
       "      <td>1.333333</td>\n",
       "    </tr>\n",
       "    <tr>\n",
       "      <td>1</td>\n",
       "      <td>4</td>\n",
       "      <td>missingkeyword</td>\n",
       "      <td>missinglocation</td>\n",
       "      <td>Forest fire near La Ronge Sask. Canada</td>\n",
       "      <td>missingkeyword missinglocation Forest fire nea...</td>\n",
       "      <td>[missingkeyword, missinglocation, Forest, fire...</td>\n",
       "      <td>[missingkeyword, missinglocation, Forest, fire...</td>\n",
       "      <td>missingkeyword missinglocation Forest fire nea...</td>\n",
       "      <td>missingkeyword missinglocation Forest fire nea...</td>\n",
       "      <td>missingkeyword missinglocation Forest fire nea...</td>\n",
       "      <td>68</td>\n",
       "      <td>1</td>\n",
       "      <td>1.470588</td>\n",
       "    </tr>\n",
       "    <tr>\n",
       "      <td>2</td>\n",
       "      <td>5</td>\n",
       "      <td>missingkeyword</td>\n",
       "      <td>missinglocation</td>\n",
       "      <td>All residents asked to 'shelter in place' are ...</td>\n",
       "      <td>missingkeyword missinglocation All residents a...</td>\n",
       "      <td>[missingkeyword, missinglocation, All, residen...</td>\n",
       "      <td>[missingkeyword, missinglocation, residents, a...</td>\n",
       "      <td>missingkeyword missinglocation residents asked...</td>\n",
       "      <td>missingkeyword missinglocation residents asked...</td>\n",
       "      <td>missingkeyword missinglocation residents asked...</td>\n",
       "      <td>119</td>\n",
       "      <td>3</td>\n",
       "      <td>2.521008</td>\n",
       "    </tr>\n",
       "    <tr>\n",
       "      <td>3</td>\n",
       "      <td>6</td>\n",
       "      <td>missingkeyword</td>\n",
       "      <td>missinglocation</td>\n",
       "      <td>13,000 people receive #wildfires evacuation or...</td>\n",
       "      <td>missingkeyword missinglocation 13,000 people r...</td>\n",
       "      <td>[missingkeyword, missinglocation, 13,000, peop...</td>\n",
       "      <td>[missingkeyword, missinglocation, 13,000, peop...</td>\n",
       "      <td>missingkeyword missinglocation 13,000 people r...</td>\n",
       "      <td>missingkeyword missinglocation 13000 people re...</td>\n",
       "      <td>missingkeyword missinglocation 13000 people re...</td>\n",
       "      <td>90</td>\n",
       "      <td>2</td>\n",
       "      <td>2.222222</td>\n",
       "    </tr>\n",
       "    <tr>\n",
       "      <td>4</td>\n",
       "      <td>7</td>\n",
       "      <td>missingkeyword</td>\n",
       "      <td>missinglocation</td>\n",
       "      <td>Just got sent this photo from Ruby #Alaska as ...</td>\n",
       "      <td>missingkeyword missinglocation Just got sent t...</td>\n",
       "      <td>[missingkeyword, missinglocation, Just, got, s...</td>\n",
       "      <td>[missingkeyword, missinglocation, got, sent, p...</td>\n",
       "      <td>missingkeyword missinglocation got sent photo ...</td>\n",
       "      <td>missingkeyword missinglocation got sent photo ...</td>\n",
       "      <td>missingkeyword missinglocation got sent photo ...</td>\n",
       "      <td>86</td>\n",
       "      <td>2</td>\n",
       "      <td>2.325581</td>\n",
       "    </tr>\n",
       "    <tr>\n",
       "      <td>...</td>\n",
       "      <td>...</td>\n",
       "      <td>...</td>\n",
       "      <td>...</td>\n",
       "      <td>...</td>\n",
       "      <td>...</td>\n",
       "      <td>...</td>\n",
       "      <td>...</td>\n",
       "      <td>...</td>\n",
       "      <td>...</td>\n",
       "      <td>...</td>\n",
       "      <td>...</td>\n",
       "      <td>...</td>\n",
       "      <td>...</td>\n",
       "    </tr>\n",
       "    <tr>\n",
       "      <td>7608</td>\n",
       "      <td>10869</td>\n",
       "      <td>missingkeyword</td>\n",
       "      <td>missinglocation</td>\n",
       "      <td>Two giant cranes holding a bridge collapse int...</td>\n",
       "      <td>missingkeyword missinglocation Two giant crane...</td>\n",
       "      <td>[missingkeyword, missinglocation, Two, giant, ...</td>\n",
       "      <td>[missingkeyword, missinglocation, Two, giant, ...</td>\n",
       "      <td>missingkeyword missinglocation Two giant crane...</td>\n",
       "      <td>missingkeyword missinglocation Two giant crane...</td>\n",
       "      <td>missingkeyword missinglocation Two giant crane...</td>\n",
       "      <td>102</td>\n",
       "      <td>5</td>\n",
       "      <td>4.901961</td>\n",
       "    </tr>\n",
       "    <tr>\n",
       "      <td>7609</td>\n",
       "      <td>10870</td>\n",
       "      <td>missingkeyword</td>\n",
       "      <td>missinglocation</td>\n",
       "      <td>@aria_ahrary @TheTawniest The out of control w...</td>\n",
       "      <td>missingkeyword missinglocation @aria_ahrary @T...</td>\n",
       "      <td>[missingkeyword, missinglocation, @aria_ahrary...</td>\n",
       "      <td>[missingkeyword, missinglocation, @aria_ahrary...</td>\n",
       "      <td>missingkeyword missinglocation @aria_ahrary @T...</td>\n",
       "      <td>missingkeyword missinglocation ariaahrary TheT...</td>\n",
       "      <td>missingkeyword missinglocation ariaahrary TheT...</td>\n",
       "      <td>118</td>\n",
       "      <td>5</td>\n",
       "      <td>4.237288</td>\n",
       "    </tr>\n",
       "    <tr>\n",
       "      <td>7610</td>\n",
       "      <td>10871</td>\n",
       "      <td>missingkeyword</td>\n",
       "      <td>missinglocation</td>\n",
       "      <td>M1.94 [01:04 UTC]?5km S of Volcano Hawaii. htt...</td>\n",
       "      <td>missingkeyword missinglocation M1.94 [01:04 UT...</td>\n",
       "      <td>[missingkeyword, missinglocation, M1.94, [01:0...</td>\n",
       "      <td>[missingkeyword, missinglocation, M1.94, [01:0...</td>\n",
       "      <td>missingkeyword missinglocation M1.94 [01:04 UT...</td>\n",
       "      <td>missingkeyword missinglocation M194 0104 UTC5k...</td>\n",
       "      <td>missingkeyword missinglocation M194 0104 UTC5k...</td>\n",
       "      <td>80</td>\n",
       "      <td>11</td>\n",
       "      <td>13.750000</td>\n",
       "    </tr>\n",
       "    <tr>\n",
       "      <td>7611</td>\n",
       "      <td>10872</td>\n",
       "      <td>missingkeyword</td>\n",
       "      <td>missinglocation</td>\n",
       "      <td>Police investigating after an e-bike collided ...</td>\n",
       "      <td>missingkeyword missinglocation Police investig...</td>\n",
       "      <td>[missingkeyword, missinglocation, Police, inve...</td>\n",
       "      <td>[missingkeyword, missinglocation, Police, inve...</td>\n",
       "      <td>missingkeyword missinglocation Police investig...</td>\n",
       "      <td>missingkeyword missinglocation Police investig...</td>\n",
       "      <td>missingkeyword missinglocation Police investig...</td>\n",
       "      <td>144</td>\n",
       "      <td>5</td>\n",
       "      <td>3.472222</td>\n",
       "    </tr>\n",
       "    <tr>\n",
       "      <td>7612</td>\n",
       "      <td>10873</td>\n",
       "      <td>missingkeyword</td>\n",
       "      <td>missinglocation</td>\n",
       "      <td>The Latest: More Homes Razed by Northern Calif...</td>\n",
       "      <td>missingkeyword missinglocation The Latest: Mor...</td>\n",
       "      <td>[missingkeyword, missinglocation, The, Latest:...</td>\n",
       "      <td>[missingkeyword, missinglocation, Latest:, Hom...</td>\n",
       "      <td>missingkeyword missinglocation Latest: Homes R...</td>\n",
       "      <td>missingkeyword missinglocation Latest Homes Ra...</td>\n",
       "      <td>missingkeyword missinglocation Latest Homes Ra...</td>\n",
       "      <td>106</td>\n",
       "      <td>7</td>\n",
       "      <td>6.603774</td>\n",
       "    </tr>\n",
       "  </tbody>\n",
       "</table>\n",
       "<p>7613 rows × 13 columns</p>\n",
       "</div>"
      ],
      "text/plain": [
       "         id         keyword         location  \\\n",
       "0         1  missingkeyword  missinglocation   \n",
       "1         4  missingkeyword  missinglocation   \n",
       "2         5  missingkeyword  missinglocation   \n",
       "3         6  missingkeyword  missinglocation   \n",
       "4         7  missingkeyword  missinglocation   \n",
       "...     ...             ...              ...   \n",
       "7608  10869  missingkeyword  missinglocation   \n",
       "7609  10870  missingkeyword  missinglocation   \n",
       "7610  10871  missingkeyword  missinglocation   \n",
       "7611  10872  missingkeyword  missinglocation   \n",
       "7612  10873  missingkeyword  missinglocation   \n",
       "\n",
       "                                                   text  \\\n",
       "0     Our Deeds are the Reason of this #earthquake M...   \n",
       "1                Forest fire near La Ronge Sask. Canada   \n",
       "2     All residents asked to 'shelter in place' are ...   \n",
       "3     13,000 people receive #wildfires evacuation or...   \n",
       "4     Just got sent this photo from Ruby #Alaska as ...   \n",
       "...                                                 ...   \n",
       "7608  Two giant cranes holding a bridge collapse int...   \n",
       "7609  @aria_ahrary @TheTawniest The out of control w...   \n",
       "7610  M1.94 [01:04 UTC]?5km S of Volcano Hawaii. htt...   \n",
       "7611  Police investigating after an e-bike collided ...   \n",
       "7612  The Latest: More Homes Razed by Northern Calif...   \n",
       "\n",
       "                                               combined  \\\n",
       "0     missingkeyword missinglocation Our Deeds are t...   \n",
       "1     missingkeyword missinglocation Forest fire nea...   \n",
       "2     missingkeyword missinglocation All residents a...   \n",
       "3     missingkeyword missinglocation 13,000 people r...   \n",
       "4     missingkeyword missinglocation Just got sent t...   \n",
       "...                                                 ...   \n",
       "7608  missingkeyword missinglocation Two giant crane...   \n",
       "7609  missingkeyword missinglocation @aria_ahrary @T...   \n",
       "7610  missingkeyword missinglocation M1.94 [01:04 UT...   \n",
       "7611  missingkeyword missinglocation Police investig...   \n",
       "7612  missingkeyword missinglocation The Latest: Mor...   \n",
       "\n",
       "                                              tokenized  \\\n",
       "0     [missingkeyword, missinglocation, Our, Deeds, ...   \n",
       "1     [missingkeyword, missinglocation, Forest, fire...   \n",
       "2     [missingkeyword, missinglocation, All, residen...   \n",
       "3     [missingkeyword, missinglocation, 13,000, peop...   \n",
       "4     [missingkeyword, missinglocation, Just, got, s...   \n",
       "...                                                 ...   \n",
       "7608  [missingkeyword, missinglocation, Two, giant, ...   \n",
       "7609  [missingkeyword, missinglocation, @aria_ahrary...   \n",
       "7610  [missingkeyword, missinglocation, M1.94, [01:0...   \n",
       "7611  [missingkeyword, missinglocation, Police, inve...   \n",
       "7612  [missingkeyword, missinglocation, The, Latest:...   \n",
       "\n",
       "                                                 nostop  \\\n",
       "0     [missingkeyword, missinglocation, Deeds, Reaso...   \n",
       "1     [missingkeyword, missinglocation, Forest, fire...   \n",
       "2     [missingkeyword, missinglocation, residents, a...   \n",
       "3     [missingkeyword, missinglocation, 13,000, peop...   \n",
       "4     [missingkeyword, missinglocation, got, sent, p...   \n",
       "...                                                 ...   \n",
       "7608  [missingkeyword, missinglocation, Two, giant, ...   \n",
       "7609  [missingkeyword, missinglocation, @aria_ahrary...   \n",
       "7610  [missingkeyword, missinglocation, M1.94, [01:0...   \n",
       "7611  [missingkeyword, missinglocation, Police, inve...   \n",
       "7612  [missingkeyword, missinglocation, Latest:, Hom...   \n",
       "\n",
       "                                                   join  \\\n",
       "0     missingkeyword missinglocation Deeds Reason #e...   \n",
       "1     missingkeyword missinglocation Forest fire nea...   \n",
       "2     missingkeyword missinglocation residents asked...   \n",
       "3     missingkeyword missinglocation 13,000 people r...   \n",
       "4     missingkeyword missinglocation got sent photo ...   \n",
       "...                                                 ...   \n",
       "7608  missingkeyword missinglocation Two giant crane...   \n",
       "7609  missingkeyword missinglocation @aria_ahrary @T...   \n",
       "7610  missingkeyword missinglocation M1.94 [01:04 UT...   \n",
       "7611  missingkeyword missinglocation Police investig...   \n",
       "7612  missingkeyword missinglocation Latest: Homes R...   \n",
       "\n",
       "                                                nopunct  \\\n",
       "0     missingkeyword missinglocation Deeds Reason ea...   \n",
       "1     missingkeyword missinglocation Forest fire nea...   \n",
       "2     missingkeyword missinglocation residents asked...   \n",
       "3     missingkeyword missinglocation 13000 people re...   \n",
       "4     missingkeyword missinglocation got sent photo ...   \n",
       "...                                                 ...   \n",
       "7608  missingkeyword missinglocation Two giant crane...   \n",
       "7609  missingkeyword missinglocation ariaahrary TheT...   \n",
       "7610  missingkeyword missinglocation M194 0104 UTC5k...   \n",
       "7611  missingkeyword missinglocation Police investig...   \n",
       "7612  missingkeyword missinglocation Latest Homes Ra...   \n",
       "\n",
       "                                          withoutspaces  length  punctcount  \\\n",
       "0     missingkeyword missinglocation Deeds Reason ea...      75           1   \n",
       "1     missingkeyword missinglocation Forest fire nea...      68           1   \n",
       "2     missingkeyword missinglocation residents asked...     119           3   \n",
       "3     missingkeyword missinglocation 13000 people re...      90           2   \n",
       "4     missingkeyword missinglocation got sent photo ...      86           2   \n",
       "...                                                 ...     ...         ...   \n",
       "7608  missingkeyword missinglocation Two giant crane...     102           5   \n",
       "7609  missingkeyword missinglocation ariaahrary TheT...     118           5   \n",
       "7610  missingkeyword missinglocation M194 0104 UTC5k...      80          11   \n",
       "7611  missingkeyword missinglocation Police investig...     144           5   \n",
       "7612  missingkeyword missinglocation Latest Homes Ra...     106           7   \n",
       "\n",
       "      punctpercent  \n",
       "0         1.333333  \n",
       "1         1.470588  \n",
       "2         2.521008  \n",
       "3         2.222222  \n",
       "4         2.325581  \n",
       "...            ...  \n",
       "7608      4.901961  \n",
       "7609      4.237288  \n",
       "7610     13.750000  \n",
       "7611      3.472222  \n",
       "7612      6.603774  \n",
       "\n",
       "[7613 rows x 13 columns]"
      ]
     },
     "execution_count": 28,
     "metadata": {},
     "output_type": "execute_result"
    }
   ],
   "source": [
    "X"
   ]
  },
  {
   "cell_type": "code",
   "execution_count": 29,
   "metadata": {},
   "outputs": [
    {
     "data": {
      "text/plain": [
       "0    1\n",
       "1    1\n",
       "2    1\n",
       "3    1\n",
       "4    1\n",
       "Name: target, dtype: int64"
      ]
     },
     "execution_count": 29,
     "metadata": {},
     "output_type": "execute_result"
    }
   ],
   "source": [
    "y.head()"
   ]
  },
  {
   "cell_type": "code",
   "execution_count": null,
   "metadata": {},
   "outputs": [],
   "source": []
  },
  {
   "cell_type": "code",
   "execution_count": 30,
   "metadata": {},
   "outputs": [],
   "source": [
    "from sklearn.feature_extraction.text import TfidfVectorizer"
   ]
  },
  {
   "cell_type": "code",
   "execution_count": null,
   "metadata": {},
   "outputs": [],
   "source": []
  },
  {
   "cell_type": "code",
   "execution_count": 31,
   "metadata": {},
   "outputs": [],
   "source": [
    "# X_train, X_test, y_train, y_test = train_test_split(X, y, test_size=0.33, random_state=42)"
   ]
  },
  {
   "cell_type": "code",
   "execution_count": 32,
   "metadata": {},
   "outputs": [],
   "source": [
    "X_train=X"
   ]
  },
  {
   "cell_type": "code",
   "execution_count": 33,
   "metadata": {},
   "outputs": [],
   "source": [
    "y_train=y"
   ]
  },
  {
   "cell_type": "code",
   "execution_count": 34,
   "metadata": {},
   "outputs": [
    {
     "data": {
      "text/html": [
       "<div>\n",
       "<style scoped>\n",
       "    .dataframe tbody tr th:only-of-type {\n",
       "        vertical-align: middle;\n",
       "    }\n",
       "\n",
       "    .dataframe tbody tr th {\n",
       "        vertical-align: top;\n",
       "    }\n",
       "\n",
       "    .dataframe thead th {\n",
       "        text-align: right;\n",
       "    }\n",
       "</style>\n",
       "<table border=\"1\" class=\"dataframe\">\n",
       "  <thead>\n",
       "    <tr style=\"text-align: right;\">\n",
       "      <th></th>\n",
       "      <th>id</th>\n",
       "      <th>keyword</th>\n",
       "      <th>location</th>\n",
       "      <th>text</th>\n",
       "      <th>combined</th>\n",
       "      <th>tokenized</th>\n",
       "      <th>nostop</th>\n",
       "      <th>join</th>\n",
       "      <th>nopunct</th>\n",
       "      <th>withoutspaces</th>\n",
       "      <th>length</th>\n",
       "      <th>punctcount</th>\n",
       "      <th>punctpercent</th>\n",
       "    </tr>\n",
       "  </thead>\n",
       "  <tbody>\n",
       "    <tr>\n",
       "      <td>0</td>\n",
       "      <td>1</td>\n",
       "      <td>missingkeyword</td>\n",
       "      <td>missinglocation</td>\n",
       "      <td>Our Deeds are the Reason of this #earthquake M...</td>\n",
       "      <td>missingkeyword missinglocation Our Deeds are t...</td>\n",
       "      <td>[missingkeyword, missinglocation, Our, Deeds, ...</td>\n",
       "      <td>[missingkeyword, missinglocation, Deeds, Reaso...</td>\n",
       "      <td>missingkeyword missinglocation Deeds Reason #e...</td>\n",
       "      <td>missingkeyword missinglocation Deeds Reason ea...</td>\n",
       "      <td>missingkeyword missinglocation Deeds Reason ea...</td>\n",
       "      <td>75</td>\n",
       "      <td>1</td>\n",
       "      <td>1.333333</td>\n",
       "    </tr>\n",
       "    <tr>\n",
       "      <td>1</td>\n",
       "      <td>4</td>\n",
       "      <td>missingkeyword</td>\n",
       "      <td>missinglocation</td>\n",
       "      <td>Forest fire near La Ronge Sask. Canada</td>\n",
       "      <td>missingkeyword missinglocation Forest fire nea...</td>\n",
       "      <td>[missingkeyword, missinglocation, Forest, fire...</td>\n",
       "      <td>[missingkeyword, missinglocation, Forest, fire...</td>\n",
       "      <td>missingkeyword missinglocation Forest fire nea...</td>\n",
       "      <td>missingkeyword missinglocation Forest fire nea...</td>\n",
       "      <td>missingkeyword missinglocation Forest fire nea...</td>\n",
       "      <td>68</td>\n",
       "      <td>1</td>\n",
       "      <td>1.470588</td>\n",
       "    </tr>\n",
       "    <tr>\n",
       "      <td>2</td>\n",
       "      <td>5</td>\n",
       "      <td>missingkeyword</td>\n",
       "      <td>missinglocation</td>\n",
       "      <td>All residents asked to 'shelter in place' are ...</td>\n",
       "      <td>missingkeyword missinglocation All residents a...</td>\n",
       "      <td>[missingkeyword, missinglocation, All, residen...</td>\n",
       "      <td>[missingkeyword, missinglocation, residents, a...</td>\n",
       "      <td>missingkeyword missinglocation residents asked...</td>\n",
       "      <td>missingkeyword missinglocation residents asked...</td>\n",
       "      <td>missingkeyword missinglocation residents asked...</td>\n",
       "      <td>119</td>\n",
       "      <td>3</td>\n",
       "      <td>2.521008</td>\n",
       "    </tr>\n",
       "    <tr>\n",
       "      <td>3</td>\n",
       "      <td>6</td>\n",
       "      <td>missingkeyword</td>\n",
       "      <td>missinglocation</td>\n",
       "      <td>13,000 people receive #wildfires evacuation or...</td>\n",
       "      <td>missingkeyword missinglocation 13,000 people r...</td>\n",
       "      <td>[missingkeyword, missinglocation, 13,000, peop...</td>\n",
       "      <td>[missingkeyword, missinglocation, 13,000, peop...</td>\n",
       "      <td>missingkeyword missinglocation 13,000 people r...</td>\n",
       "      <td>missingkeyword missinglocation 13000 people re...</td>\n",
       "      <td>missingkeyword missinglocation 13000 people re...</td>\n",
       "      <td>90</td>\n",
       "      <td>2</td>\n",
       "      <td>2.222222</td>\n",
       "    </tr>\n",
       "    <tr>\n",
       "      <td>4</td>\n",
       "      <td>7</td>\n",
       "      <td>missingkeyword</td>\n",
       "      <td>missinglocation</td>\n",
       "      <td>Just got sent this photo from Ruby #Alaska as ...</td>\n",
       "      <td>missingkeyword missinglocation Just got sent t...</td>\n",
       "      <td>[missingkeyword, missinglocation, Just, got, s...</td>\n",
       "      <td>[missingkeyword, missinglocation, got, sent, p...</td>\n",
       "      <td>missingkeyword missinglocation got sent photo ...</td>\n",
       "      <td>missingkeyword missinglocation got sent photo ...</td>\n",
       "      <td>missingkeyword missinglocation got sent photo ...</td>\n",
       "      <td>86</td>\n",
       "      <td>2</td>\n",
       "      <td>2.325581</td>\n",
       "    </tr>\n",
       "    <tr>\n",
       "      <td>...</td>\n",
       "      <td>...</td>\n",
       "      <td>...</td>\n",
       "      <td>...</td>\n",
       "      <td>...</td>\n",
       "      <td>...</td>\n",
       "      <td>...</td>\n",
       "      <td>...</td>\n",
       "      <td>...</td>\n",
       "      <td>...</td>\n",
       "      <td>...</td>\n",
       "      <td>...</td>\n",
       "      <td>...</td>\n",
       "      <td>...</td>\n",
       "    </tr>\n",
       "    <tr>\n",
       "      <td>7608</td>\n",
       "      <td>10869</td>\n",
       "      <td>missingkeyword</td>\n",
       "      <td>missinglocation</td>\n",
       "      <td>Two giant cranes holding a bridge collapse int...</td>\n",
       "      <td>missingkeyword missinglocation Two giant crane...</td>\n",
       "      <td>[missingkeyword, missinglocation, Two, giant, ...</td>\n",
       "      <td>[missingkeyword, missinglocation, Two, giant, ...</td>\n",
       "      <td>missingkeyword missinglocation Two giant crane...</td>\n",
       "      <td>missingkeyword missinglocation Two giant crane...</td>\n",
       "      <td>missingkeyword missinglocation Two giant crane...</td>\n",
       "      <td>102</td>\n",
       "      <td>5</td>\n",
       "      <td>4.901961</td>\n",
       "    </tr>\n",
       "    <tr>\n",
       "      <td>7609</td>\n",
       "      <td>10870</td>\n",
       "      <td>missingkeyword</td>\n",
       "      <td>missinglocation</td>\n",
       "      <td>@aria_ahrary @TheTawniest The out of control w...</td>\n",
       "      <td>missingkeyword missinglocation @aria_ahrary @T...</td>\n",
       "      <td>[missingkeyword, missinglocation, @aria_ahrary...</td>\n",
       "      <td>[missingkeyword, missinglocation, @aria_ahrary...</td>\n",
       "      <td>missingkeyword missinglocation @aria_ahrary @T...</td>\n",
       "      <td>missingkeyword missinglocation ariaahrary TheT...</td>\n",
       "      <td>missingkeyword missinglocation ariaahrary TheT...</td>\n",
       "      <td>118</td>\n",
       "      <td>5</td>\n",
       "      <td>4.237288</td>\n",
       "    </tr>\n",
       "    <tr>\n",
       "      <td>7610</td>\n",
       "      <td>10871</td>\n",
       "      <td>missingkeyword</td>\n",
       "      <td>missinglocation</td>\n",
       "      <td>M1.94 [01:04 UTC]?5km S of Volcano Hawaii. htt...</td>\n",
       "      <td>missingkeyword missinglocation M1.94 [01:04 UT...</td>\n",
       "      <td>[missingkeyword, missinglocation, M1.94, [01:0...</td>\n",
       "      <td>[missingkeyword, missinglocation, M1.94, [01:0...</td>\n",
       "      <td>missingkeyword missinglocation M1.94 [01:04 UT...</td>\n",
       "      <td>missingkeyword missinglocation M194 0104 UTC5k...</td>\n",
       "      <td>missingkeyword missinglocation M194 0104 UTC5k...</td>\n",
       "      <td>80</td>\n",
       "      <td>11</td>\n",
       "      <td>13.750000</td>\n",
       "    </tr>\n",
       "    <tr>\n",
       "      <td>7611</td>\n",
       "      <td>10872</td>\n",
       "      <td>missingkeyword</td>\n",
       "      <td>missinglocation</td>\n",
       "      <td>Police investigating after an e-bike collided ...</td>\n",
       "      <td>missingkeyword missinglocation Police investig...</td>\n",
       "      <td>[missingkeyword, missinglocation, Police, inve...</td>\n",
       "      <td>[missingkeyword, missinglocation, Police, inve...</td>\n",
       "      <td>missingkeyword missinglocation Police investig...</td>\n",
       "      <td>missingkeyword missinglocation Police investig...</td>\n",
       "      <td>missingkeyword missinglocation Police investig...</td>\n",
       "      <td>144</td>\n",
       "      <td>5</td>\n",
       "      <td>3.472222</td>\n",
       "    </tr>\n",
       "    <tr>\n",
       "      <td>7612</td>\n",
       "      <td>10873</td>\n",
       "      <td>missingkeyword</td>\n",
       "      <td>missinglocation</td>\n",
       "      <td>The Latest: More Homes Razed by Northern Calif...</td>\n",
       "      <td>missingkeyword missinglocation The Latest: Mor...</td>\n",
       "      <td>[missingkeyword, missinglocation, The, Latest:...</td>\n",
       "      <td>[missingkeyword, missinglocation, Latest:, Hom...</td>\n",
       "      <td>missingkeyword missinglocation Latest: Homes R...</td>\n",
       "      <td>missingkeyword missinglocation Latest Homes Ra...</td>\n",
       "      <td>missingkeyword missinglocation Latest Homes Ra...</td>\n",
       "      <td>106</td>\n",
       "      <td>7</td>\n",
       "      <td>6.603774</td>\n",
       "    </tr>\n",
       "  </tbody>\n",
       "</table>\n",
       "<p>7613 rows × 13 columns</p>\n",
       "</div>"
      ],
      "text/plain": [
       "         id         keyword         location  \\\n",
       "0         1  missingkeyword  missinglocation   \n",
       "1         4  missingkeyword  missinglocation   \n",
       "2         5  missingkeyword  missinglocation   \n",
       "3         6  missingkeyword  missinglocation   \n",
       "4         7  missingkeyword  missinglocation   \n",
       "...     ...             ...              ...   \n",
       "7608  10869  missingkeyword  missinglocation   \n",
       "7609  10870  missingkeyword  missinglocation   \n",
       "7610  10871  missingkeyword  missinglocation   \n",
       "7611  10872  missingkeyword  missinglocation   \n",
       "7612  10873  missingkeyword  missinglocation   \n",
       "\n",
       "                                                   text  \\\n",
       "0     Our Deeds are the Reason of this #earthquake M...   \n",
       "1                Forest fire near La Ronge Sask. Canada   \n",
       "2     All residents asked to 'shelter in place' are ...   \n",
       "3     13,000 people receive #wildfires evacuation or...   \n",
       "4     Just got sent this photo from Ruby #Alaska as ...   \n",
       "...                                                 ...   \n",
       "7608  Two giant cranes holding a bridge collapse int...   \n",
       "7609  @aria_ahrary @TheTawniest The out of control w...   \n",
       "7610  M1.94 [01:04 UTC]?5km S of Volcano Hawaii. htt...   \n",
       "7611  Police investigating after an e-bike collided ...   \n",
       "7612  The Latest: More Homes Razed by Northern Calif...   \n",
       "\n",
       "                                               combined  \\\n",
       "0     missingkeyword missinglocation Our Deeds are t...   \n",
       "1     missingkeyword missinglocation Forest fire nea...   \n",
       "2     missingkeyword missinglocation All residents a...   \n",
       "3     missingkeyword missinglocation 13,000 people r...   \n",
       "4     missingkeyword missinglocation Just got sent t...   \n",
       "...                                                 ...   \n",
       "7608  missingkeyword missinglocation Two giant crane...   \n",
       "7609  missingkeyword missinglocation @aria_ahrary @T...   \n",
       "7610  missingkeyword missinglocation M1.94 [01:04 UT...   \n",
       "7611  missingkeyword missinglocation Police investig...   \n",
       "7612  missingkeyword missinglocation The Latest: Mor...   \n",
       "\n",
       "                                              tokenized  \\\n",
       "0     [missingkeyword, missinglocation, Our, Deeds, ...   \n",
       "1     [missingkeyword, missinglocation, Forest, fire...   \n",
       "2     [missingkeyword, missinglocation, All, residen...   \n",
       "3     [missingkeyword, missinglocation, 13,000, peop...   \n",
       "4     [missingkeyword, missinglocation, Just, got, s...   \n",
       "...                                                 ...   \n",
       "7608  [missingkeyword, missinglocation, Two, giant, ...   \n",
       "7609  [missingkeyword, missinglocation, @aria_ahrary...   \n",
       "7610  [missingkeyword, missinglocation, M1.94, [01:0...   \n",
       "7611  [missingkeyword, missinglocation, Police, inve...   \n",
       "7612  [missingkeyword, missinglocation, The, Latest:...   \n",
       "\n",
       "                                                 nostop  \\\n",
       "0     [missingkeyword, missinglocation, Deeds, Reaso...   \n",
       "1     [missingkeyword, missinglocation, Forest, fire...   \n",
       "2     [missingkeyword, missinglocation, residents, a...   \n",
       "3     [missingkeyword, missinglocation, 13,000, peop...   \n",
       "4     [missingkeyword, missinglocation, got, sent, p...   \n",
       "...                                                 ...   \n",
       "7608  [missingkeyword, missinglocation, Two, giant, ...   \n",
       "7609  [missingkeyword, missinglocation, @aria_ahrary...   \n",
       "7610  [missingkeyword, missinglocation, M1.94, [01:0...   \n",
       "7611  [missingkeyword, missinglocation, Police, inve...   \n",
       "7612  [missingkeyword, missinglocation, Latest:, Hom...   \n",
       "\n",
       "                                                   join  \\\n",
       "0     missingkeyword missinglocation Deeds Reason #e...   \n",
       "1     missingkeyword missinglocation Forest fire nea...   \n",
       "2     missingkeyword missinglocation residents asked...   \n",
       "3     missingkeyword missinglocation 13,000 people r...   \n",
       "4     missingkeyword missinglocation got sent photo ...   \n",
       "...                                                 ...   \n",
       "7608  missingkeyword missinglocation Two giant crane...   \n",
       "7609  missingkeyword missinglocation @aria_ahrary @T...   \n",
       "7610  missingkeyword missinglocation M1.94 [01:04 UT...   \n",
       "7611  missingkeyword missinglocation Police investig...   \n",
       "7612  missingkeyword missinglocation Latest: Homes R...   \n",
       "\n",
       "                                                nopunct  \\\n",
       "0     missingkeyword missinglocation Deeds Reason ea...   \n",
       "1     missingkeyword missinglocation Forest fire nea...   \n",
       "2     missingkeyword missinglocation residents asked...   \n",
       "3     missingkeyword missinglocation 13000 people re...   \n",
       "4     missingkeyword missinglocation got sent photo ...   \n",
       "...                                                 ...   \n",
       "7608  missingkeyword missinglocation Two giant crane...   \n",
       "7609  missingkeyword missinglocation ariaahrary TheT...   \n",
       "7610  missingkeyword missinglocation M194 0104 UTC5k...   \n",
       "7611  missingkeyword missinglocation Police investig...   \n",
       "7612  missingkeyword missinglocation Latest Homes Ra...   \n",
       "\n",
       "                                          withoutspaces  length  punctcount  \\\n",
       "0     missingkeyword missinglocation Deeds Reason ea...      75           1   \n",
       "1     missingkeyword missinglocation Forest fire nea...      68           1   \n",
       "2     missingkeyword missinglocation residents asked...     119           3   \n",
       "3     missingkeyword missinglocation 13000 people re...      90           2   \n",
       "4     missingkeyword missinglocation got sent photo ...      86           2   \n",
       "...                                                 ...     ...         ...   \n",
       "7608  missingkeyword missinglocation Two giant crane...     102           5   \n",
       "7609  missingkeyword missinglocation ariaahrary TheT...     118           5   \n",
       "7610  missingkeyword missinglocation M194 0104 UTC5k...      80          11   \n",
       "7611  missingkeyword missinglocation Police investig...     144           5   \n",
       "7612  missingkeyword missinglocation Latest Homes Ra...     106           7   \n",
       "\n",
       "      punctpercent  \n",
       "0         1.333333  \n",
       "1         1.470588  \n",
       "2         2.521008  \n",
       "3         2.222222  \n",
       "4         2.325581  \n",
       "...            ...  \n",
       "7608      4.901961  \n",
       "7609      4.237288  \n",
       "7610     13.750000  \n",
       "7611      3.472222  \n",
       "7612      6.603774  \n",
       "\n",
       "[7613 rows x 13 columns]"
      ]
     },
     "execution_count": 34,
     "metadata": {},
     "output_type": "execute_result"
    }
   ],
   "source": [
    "X_train"
   ]
  },
  {
   "cell_type": "code",
   "execution_count": 35,
   "metadata": {},
   "outputs": [],
   "source": [
    "######Test preprocessing#####"
   ]
  },
  {
   "cell_type": "code",
   "execution_count": 36,
   "metadata": {},
   "outputs": [],
   "source": [
    "data_test=pd.read_csv('test.csv')"
   ]
  },
  {
   "cell_type": "code",
   "execution_count": 37,
   "metadata": {},
   "outputs": [],
   "source": [
    "data_test['keyword'] = data_test['keyword'].fillna('missingkeyword')"
   ]
  },
  {
   "cell_type": "code",
   "execution_count": 38,
   "metadata": {},
   "outputs": [],
   "source": [
    "data_test['location'] = data_test['location'].fillna('missinglocation')"
   ]
  },
  {
   "cell_type": "code",
   "execution_count": 39,
   "metadata": {},
   "outputs": [],
   "source": [
    "data_test['combined']=data_test['keyword']+str(' ')+data_test['location']+str(' ')+data_test['text']"
   ]
  },
  {
   "cell_type": "code",
   "execution_count": null,
   "metadata": {},
   "outputs": [],
   "source": []
  },
  {
   "cell_type": "code",
   "execution_count": 40,
   "metadata": {},
   "outputs": [],
   "source": [
    "data_test['tokenized']=data_test['combined'].apply(lambda x : re.split('\\s',x))"
   ]
  },
  {
   "cell_type": "code",
   "execution_count": 41,
   "metadata": {},
   "outputs": [],
   "source": [
    "data_test['nostop']=data_test['tokenized'].apply(lambda x: [word for word in x if word.lower() not in sw])"
   ]
  },
  {
   "cell_type": "code",
   "execution_count": 42,
   "metadata": {},
   "outputs": [],
   "source": [
    "data_test['join']=data_test['nostop'].apply(lambda y:' '.join(y))"
   ]
  },
  {
   "cell_type": "code",
   "execution_count": 43,
   "metadata": {},
   "outputs": [],
   "source": [
    "data_test['nopunct']=data_test['join'].apply(lambda x : ''.join(y for y in x if y not in string.punctuation))"
   ]
  },
  {
   "cell_type": "code",
   "execution_count": 44,
   "metadata": {},
   "outputs": [
    {
     "data": {
      "text/plain": [
       "'missingkeyword missinglocation Apocalypse lighting Spokane wildfires'"
      ]
     },
     "execution_count": 44,
     "metadata": {},
     "output_type": "execute_result"
    }
   ],
   "source": [
    "data_test['nopunct'][3]"
   ]
  },
  {
   "cell_type": "code",
   "execution_count": 45,
   "metadata": {},
   "outputs": [],
   "source": [
    "data_test['withoutspaces']=data_test['nopunct'].apply(lambda x : x.strip())"
   ]
  },
  {
   "cell_type": "code",
   "execution_count": 46,
   "metadata": {},
   "outputs": [],
   "source": [
    "data_test['length']=data_test['withoutspaces'].apply(lambda x : len(x))"
   ]
  },
  {
   "cell_type": "code",
   "execution_count": 47,
   "metadata": {},
   "outputs": [
    {
     "data": {
      "text/plain": [
       "0"
      ]
     },
     "execution_count": 47,
     "metadata": {},
     "output_type": "execute_result"
    }
   ],
   "source": [
    "data_test['join'][0].count(string.punctuation)"
   ]
  },
  {
   "cell_type": "code",
   "execution_count": 48,
   "metadata": {},
   "outputs": [],
   "source": [
    "data_test['punctcount']=data_test['join'].apply(lambda x : sum([1 for y in x if y in string.punctuation]))"
   ]
  },
  {
   "cell_type": "code",
   "execution_count": 49,
   "metadata": {},
   "outputs": [],
   "source": [
    "data_test['punctpercent']=data_test['punctcount']/data_test['length']*100"
   ]
  },
  {
   "cell_type": "code",
   "execution_count": 50,
   "metadata": {},
   "outputs": [],
   "source": [
    "X_test=data_test"
   ]
  },
  {
   "cell_type": "code",
   "execution_count": 51,
   "metadata": {},
   "outputs": [
    {
     "data": {
      "text/html": [
       "<div>\n",
       "<style scoped>\n",
       "    .dataframe tbody tr th:only-of-type {\n",
       "        vertical-align: middle;\n",
       "    }\n",
       "\n",
       "    .dataframe tbody tr th {\n",
       "        vertical-align: top;\n",
       "    }\n",
       "\n",
       "    .dataframe thead th {\n",
       "        text-align: right;\n",
       "    }\n",
       "</style>\n",
       "<table border=\"1\" class=\"dataframe\">\n",
       "  <thead>\n",
       "    <tr style=\"text-align: right;\">\n",
       "      <th></th>\n",
       "      <th>id</th>\n",
       "      <th>keyword</th>\n",
       "      <th>location</th>\n",
       "      <th>text</th>\n",
       "      <th>combined</th>\n",
       "      <th>tokenized</th>\n",
       "      <th>nostop</th>\n",
       "      <th>join</th>\n",
       "      <th>nopunct</th>\n",
       "      <th>withoutspaces</th>\n",
       "      <th>length</th>\n",
       "      <th>punctcount</th>\n",
       "      <th>punctpercent</th>\n",
       "    </tr>\n",
       "  </thead>\n",
       "  <tbody>\n",
       "    <tr>\n",
       "      <td>0</td>\n",
       "      <td>0</td>\n",
       "      <td>missingkeyword</td>\n",
       "      <td>missinglocation</td>\n",
       "      <td>Just happened a terrible car crash</td>\n",
       "      <td>missingkeyword missinglocation Just happened a...</td>\n",
       "      <td>[missingkeyword, missinglocation, Just, happen...</td>\n",
       "      <td>[missingkeyword, missinglocation, happened, te...</td>\n",
       "      <td>missingkeyword missinglocation happened terrib...</td>\n",
       "      <td>missingkeyword missinglocation happened terrib...</td>\n",
       "      <td>missingkeyword missinglocation happened terrib...</td>\n",
       "      <td>58</td>\n",
       "      <td>0</td>\n",
       "      <td>0.000000</td>\n",
       "    </tr>\n",
       "    <tr>\n",
       "      <td>1</td>\n",
       "      <td>2</td>\n",
       "      <td>missingkeyword</td>\n",
       "      <td>missinglocation</td>\n",
       "      <td>Heard about #earthquake is different cities, s...</td>\n",
       "      <td>missingkeyword missinglocation Heard about #ea...</td>\n",
       "      <td>[missingkeyword, missinglocation, Heard, about...</td>\n",
       "      <td>[missingkeyword, missinglocation, Heard, #eart...</td>\n",
       "      <td>missingkeyword missinglocation Heard #earthqua...</td>\n",
       "      <td>missingkeyword missinglocation Heard earthquak...</td>\n",
       "      <td>missingkeyword missinglocation Heard earthquak...</td>\n",
       "      <td>83</td>\n",
       "      <td>3</td>\n",
       "      <td>3.614458</td>\n",
       "    </tr>\n",
       "    <tr>\n",
       "      <td>2</td>\n",
       "      <td>3</td>\n",
       "      <td>missingkeyword</td>\n",
       "      <td>missinglocation</td>\n",
       "      <td>there is a forest fire at spot pond, geese are...</td>\n",
       "      <td>missingkeyword missinglocation there is a fore...</td>\n",
       "      <td>[missingkeyword, missinglocation, there, is, a...</td>\n",
       "      <td>[missingkeyword, missinglocation, forest, fire...</td>\n",
       "      <td>missingkeyword missinglocation forest fire spo...</td>\n",
       "      <td>missingkeyword missinglocation forest fire spo...</td>\n",
       "      <td>missingkeyword missinglocation forest fire spo...</td>\n",
       "      <td>92</td>\n",
       "      <td>2</td>\n",
       "      <td>2.173913</td>\n",
       "    </tr>\n",
       "    <tr>\n",
       "      <td>3</td>\n",
       "      <td>9</td>\n",
       "      <td>missingkeyword</td>\n",
       "      <td>missinglocation</td>\n",
       "      <td>Apocalypse lighting. #Spokane #wildfires</td>\n",
       "      <td>missingkeyword missinglocation Apocalypse ligh...</td>\n",
       "      <td>[missingkeyword, missinglocation, Apocalypse, ...</td>\n",
       "      <td>[missingkeyword, missinglocation, Apocalypse, ...</td>\n",
       "      <td>missingkeyword missinglocation Apocalypse ligh...</td>\n",
       "      <td>missingkeyword missinglocation Apocalypse ligh...</td>\n",
       "      <td>missingkeyword missinglocation Apocalypse ligh...</td>\n",
       "      <td>68</td>\n",
       "      <td>3</td>\n",
       "      <td>4.411765</td>\n",
       "    </tr>\n",
       "    <tr>\n",
       "      <td>4</td>\n",
       "      <td>11</td>\n",
       "      <td>missingkeyword</td>\n",
       "      <td>missinglocation</td>\n",
       "      <td>Typhoon Soudelor kills 28 in China and Taiwan</td>\n",
       "      <td>missingkeyword missinglocation Typhoon Soudelo...</td>\n",
       "      <td>[missingkeyword, missinglocation, Typhoon, Sou...</td>\n",
       "      <td>[missingkeyword, missinglocation, Typhoon, Sou...</td>\n",
       "      <td>missingkeyword missinglocation Typhoon Soudelo...</td>\n",
       "      <td>missingkeyword missinglocation Typhoon Soudelo...</td>\n",
       "      <td>missingkeyword missinglocation Typhoon Soudelo...</td>\n",
       "      <td>69</td>\n",
       "      <td>0</td>\n",
       "      <td>0.000000</td>\n",
       "    </tr>\n",
       "    <tr>\n",
       "      <td>...</td>\n",
       "      <td>...</td>\n",
       "      <td>...</td>\n",
       "      <td>...</td>\n",
       "      <td>...</td>\n",
       "      <td>...</td>\n",
       "      <td>...</td>\n",
       "      <td>...</td>\n",
       "      <td>...</td>\n",
       "      <td>...</td>\n",
       "      <td>...</td>\n",
       "      <td>...</td>\n",
       "      <td>...</td>\n",
       "      <td>...</td>\n",
       "    </tr>\n",
       "    <tr>\n",
       "      <td>3258</td>\n",
       "      <td>10861</td>\n",
       "      <td>missingkeyword</td>\n",
       "      <td>missinglocation</td>\n",
       "      <td>EARTHQUAKE SAFETY LOS ANGELES ÛÒ SAFETY FASTE...</td>\n",
       "      <td>missingkeyword missinglocation EARTHQUAKE SAFE...</td>\n",
       "      <td>[missingkeyword, missinglocation, EARTHQUAKE, ...</td>\n",
       "      <td>[missingkeyword, missinglocation, EARTHQUAKE, ...</td>\n",
       "      <td>missingkeyword missinglocation EARTHQUAKE SAFE...</td>\n",
       "      <td>missingkeyword missinglocation EARTHQUAKE SAFE...</td>\n",
       "      <td>missingkeyword missinglocation EARTHQUAKE SAFE...</td>\n",
       "      <td>86</td>\n",
       "      <td>0</td>\n",
       "      <td>0.000000</td>\n",
       "    </tr>\n",
       "    <tr>\n",
       "      <td>3259</td>\n",
       "      <td>10865</td>\n",
       "      <td>missingkeyword</td>\n",
       "      <td>missinglocation</td>\n",
       "      <td>Storm in RI worse than last hurricane. My city...</td>\n",
       "      <td>missingkeyword missinglocation Storm in RI wor...</td>\n",
       "      <td>[missingkeyword, missinglocation, Storm, in, R...</td>\n",
       "      <td>[missingkeyword, missinglocation, Storm, RI, w...</td>\n",
       "      <td>missingkeyword missinglocation Storm RI worse ...</td>\n",
       "      <td>missingkeyword missinglocation Storm RI worse ...</td>\n",
       "      <td>missingkeyword missinglocation Storm RI worse ...</td>\n",
       "      <td>144</td>\n",
       "      <td>5</td>\n",
       "      <td>3.472222</td>\n",
       "    </tr>\n",
       "    <tr>\n",
       "      <td>3260</td>\n",
       "      <td>10868</td>\n",
       "      <td>missingkeyword</td>\n",
       "      <td>missinglocation</td>\n",
       "      <td>Green Line derailment in Chicago http://t.co/U...</td>\n",
       "      <td>missingkeyword missinglocation Green Line dera...</td>\n",
       "      <td>[missingkeyword, missinglocation, Green, Line,...</td>\n",
       "      <td>[missingkeyword, missinglocation, Green, Line,...</td>\n",
       "      <td>missingkeyword missinglocation Green Line dera...</td>\n",
       "      <td>missingkeyword missinglocation Green Line dera...</td>\n",
       "      <td>missingkeyword missinglocation Green Line dera...</td>\n",
       "      <td>78</td>\n",
       "      <td>5</td>\n",
       "      <td>6.410256</td>\n",
       "    </tr>\n",
       "    <tr>\n",
       "      <td>3261</td>\n",
       "      <td>10874</td>\n",
       "      <td>missingkeyword</td>\n",
       "      <td>missinglocation</td>\n",
       "      <td>MEG issues Hazardous Weather Outlook (HWO) htt...</td>\n",
       "      <td>missingkeyword missinglocation MEG issues Haza...</td>\n",
       "      <td>[missingkeyword, missinglocation, MEG, issues,...</td>\n",
       "      <td>[missingkeyword, missinglocation, MEG, issues,...</td>\n",
       "      <td>missingkeyword missinglocation MEG issues Haza...</td>\n",
       "      <td>missingkeyword missinglocation MEG issues Haza...</td>\n",
       "      <td>missingkeyword missinglocation MEG issues Haza...</td>\n",
       "      <td>89</td>\n",
       "      <td>7</td>\n",
       "      <td>7.865169</td>\n",
       "    </tr>\n",
       "    <tr>\n",
       "      <td>3262</td>\n",
       "      <td>10875</td>\n",
       "      <td>missingkeyword</td>\n",
       "      <td>missinglocation</td>\n",
       "      <td>#CityofCalgary has activated its Municipal Eme...</td>\n",
       "      <td>missingkeyword missinglocation #CityofCalgary ...</td>\n",
       "      <td>[missingkeyword, missinglocation, #CityofCalga...</td>\n",
       "      <td>[missingkeyword, missinglocation, #CityofCalga...</td>\n",
       "      <td>missingkeyword missinglocation #CityofCalgary ...</td>\n",
       "      <td>missingkeyword missinglocation CityofCalgary a...</td>\n",
       "      <td>missingkeyword missinglocation CityofCalgary a...</td>\n",
       "      <td>88</td>\n",
       "      <td>3</td>\n",
       "      <td>3.409091</td>\n",
       "    </tr>\n",
       "  </tbody>\n",
       "</table>\n",
       "<p>3263 rows × 13 columns</p>\n",
       "</div>"
      ],
      "text/plain": [
       "         id         keyword         location  \\\n",
       "0         0  missingkeyword  missinglocation   \n",
       "1         2  missingkeyword  missinglocation   \n",
       "2         3  missingkeyword  missinglocation   \n",
       "3         9  missingkeyword  missinglocation   \n",
       "4        11  missingkeyword  missinglocation   \n",
       "...     ...             ...              ...   \n",
       "3258  10861  missingkeyword  missinglocation   \n",
       "3259  10865  missingkeyword  missinglocation   \n",
       "3260  10868  missingkeyword  missinglocation   \n",
       "3261  10874  missingkeyword  missinglocation   \n",
       "3262  10875  missingkeyword  missinglocation   \n",
       "\n",
       "                                                   text  \\\n",
       "0                    Just happened a terrible car crash   \n",
       "1     Heard about #earthquake is different cities, s...   \n",
       "2     there is a forest fire at spot pond, geese are...   \n",
       "3              Apocalypse lighting. #Spokane #wildfires   \n",
       "4         Typhoon Soudelor kills 28 in China and Taiwan   \n",
       "...                                                 ...   \n",
       "3258  EARTHQUAKE SAFETY LOS ANGELES ÛÒ SAFETY FASTE...   \n",
       "3259  Storm in RI worse than last hurricane. My city...   \n",
       "3260  Green Line derailment in Chicago http://t.co/U...   \n",
       "3261  MEG issues Hazardous Weather Outlook (HWO) htt...   \n",
       "3262  #CityofCalgary has activated its Municipal Eme...   \n",
       "\n",
       "                                               combined  \\\n",
       "0     missingkeyword missinglocation Just happened a...   \n",
       "1     missingkeyword missinglocation Heard about #ea...   \n",
       "2     missingkeyword missinglocation there is a fore...   \n",
       "3     missingkeyword missinglocation Apocalypse ligh...   \n",
       "4     missingkeyword missinglocation Typhoon Soudelo...   \n",
       "...                                                 ...   \n",
       "3258  missingkeyword missinglocation EARTHQUAKE SAFE...   \n",
       "3259  missingkeyword missinglocation Storm in RI wor...   \n",
       "3260  missingkeyword missinglocation Green Line dera...   \n",
       "3261  missingkeyword missinglocation MEG issues Haza...   \n",
       "3262  missingkeyword missinglocation #CityofCalgary ...   \n",
       "\n",
       "                                              tokenized  \\\n",
       "0     [missingkeyword, missinglocation, Just, happen...   \n",
       "1     [missingkeyword, missinglocation, Heard, about...   \n",
       "2     [missingkeyword, missinglocation, there, is, a...   \n",
       "3     [missingkeyword, missinglocation, Apocalypse, ...   \n",
       "4     [missingkeyword, missinglocation, Typhoon, Sou...   \n",
       "...                                                 ...   \n",
       "3258  [missingkeyword, missinglocation, EARTHQUAKE, ...   \n",
       "3259  [missingkeyword, missinglocation, Storm, in, R...   \n",
       "3260  [missingkeyword, missinglocation, Green, Line,...   \n",
       "3261  [missingkeyword, missinglocation, MEG, issues,...   \n",
       "3262  [missingkeyword, missinglocation, #CityofCalga...   \n",
       "\n",
       "                                                 nostop  \\\n",
       "0     [missingkeyword, missinglocation, happened, te...   \n",
       "1     [missingkeyword, missinglocation, Heard, #eart...   \n",
       "2     [missingkeyword, missinglocation, forest, fire...   \n",
       "3     [missingkeyword, missinglocation, Apocalypse, ...   \n",
       "4     [missingkeyword, missinglocation, Typhoon, Sou...   \n",
       "...                                                 ...   \n",
       "3258  [missingkeyword, missinglocation, EARTHQUAKE, ...   \n",
       "3259  [missingkeyword, missinglocation, Storm, RI, w...   \n",
       "3260  [missingkeyword, missinglocation, Green, Line,...   \n",
       "3261  [missingkeyword, missinglocation, MEG, issues,...   \n",
       "3262  [missingkeyword, missinglocation, #CityofCalga...   \n",
       "\n",
       "                                                   join  \\\n",
       "0     missingkeyword missinglocation happened terrib...   \n",
       "1     missingkeyword missinglocation Heard #earthqua...   \n",
       "2     missingkeyword missinglocation forest fire spo...   \n",
       "3     missingkeyword missinglocation Apocalypse ligh...   \n",
       "4     missingkeyword missinglocation Typhoon Soudelo...   \n",
       "...                                                 ...   \n",
       "3258  missingkeyword missinglocation EARTHQUAKE SAFE...   \n",
       "3259  missingkeyword missinglocation Storm RI worse ...   \n",
       "3260  missingkeyword missinglocation Green Line dera...   \n",
       "3261  missingkeyword missinglocation MEG issues Haza...   \n",
       "3262  missingkeyword missinglocation #CityofCalgary ...   \n",
       "\n",
       "                                                nopunct  \\\n",
       "0     missingkeyword missinglocation happened terrib...   \n",
       "1     missingkeyword missinglocation Heard earthquak...   \n",
       "2     missingkeyword missinglocation forest fire spo...   \n",
       "3     missingkeyword missinglocation Apocalypse ligh...   \n",
       "4     missingkeyword missinglocation Typhoon Soudelo...   \n",
       "...                                                 ...   \n",
       "3258  missingkeyword missinglocation EARTHQUAKE SAFE...   \n",
       "3259  missingkeyword missinglocation Storm RI worse ...   \n",
       "3260  missingkeyword missinglocation Green Line dera...   \n",
       "3261  missingkeyword missinglocation MEG issues Haza...   \n",
       "3262  missingkeyword missinglocation CityofCalgary a...   \n",
       "\n",
       "                                          withoutspaces  length  punctcount  \\\n",
       "0     missingkeyword missinglocation happened terrib...      58           0   \n",
       "1     missingkeyword missinglocation Heard earthquak...      83           3   \n",
       "2     missingkeyword missinglocation forest fire spo...      92           2   \n",
       "3     missingkeyword missinglocation Apocalypse ligh...      68           3   \n",
       "4     missingkeyword missinglocation Typhoon Soudelo...      69           0   \n",
       "...                                                 ...     ...         ...   \n",
       "3258  missingkeyword missinglocation EARTHQUAKE SAFE...      86           0   \n",
       "3259  missingkeyword missinglocation Storm RI worse ...     144           5   \n",
       "3260  missingkeyword missinglocation Green Line dera...      78           5   \n",
       "3261  missingkeyword missinglocation MEG issues Haza...      89           7   \n",
       "3262  missingkeyword missinglocation CityofCalgary a...      88           3   \n",
       "\n",
       "      punctpercent  \n",
       "0         0.000000  \n",
       "1         3.614458  \n",
       "2         2.173913  \n",
       "3         4.411765  \n",
       "4         0.000000  \n",
       "...            ...  \n",
       "3258      0.000000  \n",
       "3259      3.472222  \n",
       "3260      6.410256  \n",
       "3261      7.865169  \n",
       "3262      3.409091  \n",
       "\n",
       "[3263 rows x 13 columns]"
      ]
     },
     "execution_count": 51,
     "metadata": {},
     "output_type": "execute_result"
    }
   ],
   "source": [
    "X_test"
   ]
  },
  {
   "cell_type": "code",
   "execution_count": 52,
   "metadata": {},
   "outputs": [],
   "source": [
    "tfidf_vect = TfidfVectorizer()"
   ]
  },
  {
   "cell_type": "code",
   "execution_count": 53,
   "metadata": {},
   "outputs": [],
   "source": [
    "X_train_vect = tfidf_vect.fit_transform(X_train['withoutspaces'])"
   ]
  },
  {
   "cell_type": "code",
   "execution_count": 54,
   "metadata": {},
   "outputs": [
    {
     "data": {
      "text/plain": [
       "['ûóher', 'ûókody', 'ûónegligence', 'ûótech', 'ûówe']"
      ]
     },
     "execution_count": 54,
     "metadata": {},
     "output_type": "execute_result"
    }
   ],
   "source": [
    "tfidf_vect.get_feature_names()[-5:]"
   ]
  },
  {
   "cell_type": "code",
   "execution_count": 55,
   "metadata": {},
   "outputs": [
    {
     "data": {
      "text/plain": [
       "<7613x24333 sparse matrix of type '<class 'numpy.float64'>'\n",
       "\twith 88133 stored elements in Compressed Sparse Row format>"
      ]
     },
     "execution_count": 55,
     "metadata": {},
     "output_type": "execute_result"
    }
   ],
   "source": [
    "X_train_vect"
   ]
  },
  {
   "cell_type": "code",
   "execution_count": 56,
   "metadata": {},
   "outputs": [
    {
     "data": {
      "text/plain": [
       "array([[0., 0., 0., ..., 0., 0., 0.],\n",
       "       [0., 0., 0., ..., 0., 0., 0.],\n",
       "       [0., 0., 0., ..., 0., 0., 0.],\n",
       "       ...,\n",
       "       [0., 0., 0., ..., 0., 0., 0.],\n",
       "       [0., 0., 0., ..., 0., 0., 0.],\n",
       "       [0., 0., 0., ..., 0., 0., 0.]])"
      ]
     },
     "execution_count": 56,
     "metadata": {},
     "output_type": "execute_result"
    }
   ],
   "source": [
    "X_train_vect.toarray()"
   ]
  },
  {
   "cell_type": "code",
   "execution_count": 57,
   "metadata": {},
   "outputs": [
    {
     "data": {
      "text/plain": [
       "(7613, 24333)"
      ]
     },
     "execution_count": 57,
     "metadata": {},
     "output_type": "execute_result"
    }
   ],
   "source": [
    "X_train_vect.toarray().shape"
   ]
  },
  {
   "cell_type": "code",
   "execution_count": null,
   "metadata": {},
   "outputs": [],
   "source": []
  },
  {
   "cell_type": "code",
   "execution_count": 58,
   "metadata": {},
   "outputs": [
    {
     "data": {
      "text/plain": [
       "['ûóher', 'ûókody', 'ûónegligence', 'ûótech', 'ûówe']"
      ]
     },
     "execution_count": 58,
     "metadata": {},
     "output_type": "execute_result"
    }
   ],
   "source": [
    "tfidf_vect.get_feature_names()[-5:]"
   ]
  },
  {
   "cell_type": "code",
   "execution_count": null,
   "metadata": {},
   "outputs": [],
   "source": []
  },
  {
   "cell_type": "code",
   "execution_count": 59,
   "metadata": {},
   "outputs": [],
   "source": [
    "a=X_train[['length','punctcount','punctpercent']]"
   ]
  },
  {
   "cell_type": "code",
   "execution_count": 60,
   "metadata": {},
   "outputs": [],
   "source": [
    "a.reset_index(drop=True,inplace=True)"
   ]
  },
  {
   "cell_type": "code",
   "execution_count": 61,
   "metadata": {},
   "outputs": [],
   "source": [
    "# X_train_concatenate=pd.concat([a, pd.DataFrame(X_train_vect.toarray())], axis=1)\n",
    "X_train_concatenate=a"
   ]
  },
  {
   "cell_type": "code",
   "execution_count": 62,
   "metadata": {},
   "outputs": [
    {
     "data": {
      "text/html": [
       "<div>\n",
       "<style scoped>\n",
       "    .dataframe tbody tr th:only-of-type {\n",
       "        vertical-align: middle;\n",
       "    }\n",
       "\n",
       "    .dataframe tbody tr th {\n",
       "        vertical-align: top;\n",
       "    }\n",
       "\n",
       "    .dataframe thead th {\n",
       "        text-align: right;\n",
       "    }\n",
       "</style>\n",
       "<table border=\"1\" class=\"dataframe\">\n",
       "  <thead>\n",
       "    <tr style=\"text-align: right;\">\n",
       "      <th></th>\n",
       "      <th>length</th>\n",
       "      <th>punctcount</th>\n",
       "      <th>punctpercent</th>\n",
       "    </tr>\n",
       "  </thead>\n",
       "  <tbody>\n",
       "    <tr>\n",
       "      <td>0</td>\n",
       "      <td>75</td>\n",
       "      <td>1</td>\n",
       "      <td>1.333333</td>\n",
       "    </tr>\n",
       "    <tr>\n",
       "      <td>1</td>\n",
       "      <td>68</td>\n",
       "      <td>1</td>\n",
       "      <td>1.470588</td>\n",
       "    </tr>\n",
       "    <tr>\n",
       "      <td>2</td>\n",
       "      <td>119</td>\n",
       "      <td>3</td>\n",
       "      <td>2.521008</td>\n",
       "    </tr>\n",
       "    <tr>\n",
       "      <td>3</td>\n",
       "      <td>90</td>\n",
       "      <td>2</td>\n",
       "      <td>2.222222</td>\n",
       "    </tr>\n",
       "    <tr>\n",
       "      <td>4</td>\n",
       "      <td>86</td>\n",
       "      <td>2</td>\n",
       "      <td>2.325581</td>\n",
       "    </tr>\n",
       "    <tr>\n",
       "      <td>...</td>\n",
       "      <td>...</td>\n",
       "      <td>...</td>\n",
       "      <td>...</td>\n",
       "    </tr>\n",
       "    <tr>\n",
       "      <td>7608</td>\n",
       "      <td>102</td>\n",
       "      <td>5</td>\n",
       "      <td>4.901961</td>\n",
       "    </tr>\n",
       "    <tr>\n",
       "      <td>7609</td>\n",
       "      <td>118</td>\n",
       "      <td>5</td>\n",
       "      <td>4.237288</td>\n",
       "    </tr>\n",
       "    <tr>\n",
       "      <td>7610</td>\n",
       "      <td>80</td>\n",
       "      <td>11</td>\n",
       "      <td>13.750000</td>\n",
       "    </tr>\n",
       "    <tr>\n",
       "      <td>7611</td>\n",
       "      <td>144</td>\n",
       "      <td>5</td>\n",
       "      <td>3.472222</td>\n",
       "    </tr>\n",
       "    <tr>\n",
       "      <td>7612</td>\n",
       "      <td>106</td>\n",
       "      <td>7</td>\n",
       "      <td>6.603774</td>\n",
       "    </tr>\n",
       "  </tbody>\n",
       "</table>\n",
       "<p>7613 rows × 3 columns</p>\n",
       "</div>"
      ],
      "text/plain": [
       "      length  punctcount  punctpercent\n",
       "0         75           1      1.333333\n",
       "1         68           1      1.470588\n",
       "2        119           3      2.521008\n",
       "3         90           2      2.222222\n",
       "4         86           2      2.325581\n",
       "...      ...         ...           ...\n",
       "7608     102           5      4.901961\n",
       "7609     118           5      4.237288\n",
       "7610      80          11     13.750000\n",
       "7611     144           5      3.472222\n",
       "7612     106           7      6.603774\n",
       "\n",
       "[7613 rows x 3 columns]"
      ]
     },
     "execution_count": 62,
     "metadata": {},
     "output_type": "execute_result"
    }
   ],
   "source": [
    "X_train_concatenate"
   ]
  },
  {
   "cell_type": "code",
   "execution_count": null,
   "metadata": {},
   "outputs": [],
   "source": []
  },
  {
   "cell_type": "code",
   "execution_count": 63,
   "metadata": {},
   "outputs": [],
   "source": [
    "############Test Combining"
   ]
  },
  {
   "cell_type": "code",
   "execution_count": 64,
   "metadata": {},
   "outputs": [],
   "source": [
    "X_test_vect = tfidf_vect.transform(X_test['withoutspaces'])"
   ]
  },
  {
   "cell_type": "code",
   "execution_count": 65,
   "metadata": {},
   "outputs": [
    {
     "data": {
      "text/plain": [
       "<3263x24333 sparse matrix of type '<class 'numpy.float64'>'\n",
       "\twith 30695 stored elements in Compressed Sparse Row format>"
      ]
     },
     "execution_count": 65,
     "metadata": {},
     "output_type": "execute_result"
    }
   ],
   "source": [
    "X_test_vect"
   ]
  },
  {
   "cell_type": "code",
   "execution_count": 66,
   "metadata": {},
   "outputs": [],
   "source": [
    "b=X_test[['length','punctcount','punctpercent']]"
   ]
  },
  {
   "cell_type": "code",
   "execution_count": 67,
   "metadata": {},
   "outputs": [],
   "source": [
    "b.reset_index(drop=True,inplace=True)"
   ]
  },
  {
   "cell_type": "code",
   "execution_count": 68,
   "metadata": {},
   "outputs": [],
   "source": [
    "# X_test_concatenate=pd.concat([b, pd.DataFrame(X_test_vect.toarray())], axis=1)\n",
    "X_test_concatenate=b"
   ]
  },
  {
   "cell_type": "code",
   "execution_count": 69,
   "metadata": {},
   "outputs": [
    {
     "data": {
      "text/html": [
       "<div>\n",
       "<style scoped>\n",
       "    .dataframe tbody tr th:only-of-type {\n",
       "        vertical-align: middle;\n",
       "    }\n",
       "\n",
       "    .dataframe tbody tr th {\n",
       "        vertical-align: top;\n",
       "    }\n",
       "\n",
       "    .dataframe thead th {\n",
       "        text-align: right;\n",
       "    }\n",
       "</style>\n",
       "<table border=\"1\" class=\"dataframe\">\n",
       "  <thead>\n",
       "    <tr style=\"text-align: right;\">\n",
       "      <th></th>\n",
       "      <th>length</th>\n",
       "      <th>punctcount</th>\n",
       "      <th>punctpercent</th>\n",
       "    </tr>\n",
       "  </thead>\n",
       "  <tbody>\n",
       "    <tr>\n",
       "      <td>0</td>\n",
       "      <td>58</td>\n",
       "      <td>0</td>\n",
       "      <td>0.000000</td>\n",
       "    </tr>\n",
       "    <tr>\n",
       "      <td>1</td>\n",
       "      <td>83</td>\n",
       "      <td>3</td>\n",
       "      <td>3.614458</td>\n",
       "    </tr>\n",
       "    <tr>\n",
       "      <td>2</td>\n",
       "      <td>92</td>\n",
       "      <td>2</td>\n",
       "      <td>2.173913</td>\n",
       "    </tr>\n",
       "    <tr>\n",
       "      <td>3</td>\n",
       "      <td>68</td>\n",
       "      <td>3</td>\n",
       "      <td>4.411765</td>\n",
       "    </tr>\n",
       "    <tr>\n",
       "      <td>4</td>\n",
       "      <td>69</td>\n",
       "      <td>0</td>\n",
       "      <td>0.000000</td>\n",
       "    </tr>\n",
       "    <tr>\n",
       "      <td>...</td>\n",
       "      <td>...</td>\n",
       "      <td>...</td>\n",
       "      <td>...</td>\n",
       "    </tr>\n",
       "    <tr>\n",
       "      <td>3258</td>\n",
       "      <td>86</td>\n",
       "      <td>0</td>\n",
       "      <td>0.000000</td>\n",
       "    </tr>\n",
       "    <tr>\n",
       "      <td>3259</td>\n",
       "      <td>144</td>\n",
       "      <td>5</td>\n",
       "      <td>3.472222</td>\n",
       "    </tr>\n",
       "    <tr>\n",
       "      <td>3260</td>\n",
       "      <td>78</td>\n",
       "      <td>5</td>\n",
       "      <td>6.410256</td>\n",
       "    </tr>\n",
       "    <tr>\n",
       "      <td>3261</td>\n",
       "      <td>89</td>\n",
       "      <td>7</td>\n",
       "      <td>7.865169</td>\n",
       "    </tr>\n",
       "    <tr>\n",
       "      <td>3262</td>\n",
       "      <td>88</td>\n",
       "      <td>3</td>\n",
       "      <td>3.409091</td>\n",
       "    </tr>\n",
       "  </tbody>\n",
       "</table>\n",
       "<p>3263 rows × 3 columns</p>\n",
       "</div>"
      ],
      "text/plain": [
       "      length  punctcount  punctpercent\n",
       "0         58           0      0.000000\n",
       "1         83           3      3.614458\n",
       "2         92           2      2.173913\n",
       "3         68           3      4.411765\n",
       "4         69           0      0.000000\n",
       "...      ...         ...           ...\n",
       "3258      86           0      0.000000\n",
       "3259     144           5      3.472222\n",
       "3260      78           5      6.410256\n",
       "3261      89           7      7.865169\n",
       "3262      88           3      3.409091\n",
       "\n",
       "[3263 rows x 3 columns]"
      ]
     },
     "execution_count": 69,
     "metadata": {},
     "output_type": "execute_result"
    }
   ],
   "source": [
    "X_test_concatenate"
   ]
  },
  {
   "cell_type": "code",
   "execution_count": null,
   "metadata": {},
   "outputs": [],
   "source": []
  },
  {
   "cell_type": "code",
   "execution_count": null,
   "metadata": {},
   "outputs": [],
   "source": []
  },
  {
   "cell_type": "code",
   "execution_count": 70,
   "metadata": {},
   "outputs": [],
   "source": [
    "from sklearn.linear_model import LogisticRegressionCV\n",
    "from sklearn.linear_model import LogisticRegression\n",
    "from sklearn.metrics import accuracy_score"
   ]
  },
  {
   "cell_type": "code",
   "execution_count": 71,
   "metadata": {},
   "outputs": [
    {
     "data": {
      "text/plain": [
       "LogisticRegression(C=1.0, class_weight=None, dual=False, fit_intercept=True,\n",
       "                   intercept_scaling=1, l1_ratio=None, max_iter=1000,\n",
       "                   multi_class='warn', n_jobs=-1, penalty='l2',\n",
       "                   random_state=None, solver='lbfgs', tol=0.0001, verbose=0,\n",
       "                   warm_start=False)"
      ]
     },
     "execution_count": 71,
     "metadata": {},
     "output_type": "execute_result"
    }
   ],
   "source": [
    "############ Baseline Logistic Regression with original features ######################\n",
    "l=[0.1,0.5,2,5,10]\n",
    "logreg=LogisticRegression(solver='lbfgs',max_iter=1000,n_jobs=-1,penalty='l2')\n",
    "logreg.fit(X_train_concatenate,y_train)\n"
   ]
  },
  {
   "cell_type": "code",
   "execution_count": 72,
   "metadata": {},
   "outputs": [],
   "source": [
    "y_pred=logreg.predict(X_test_concatenate)\n",
    "# score=accuracy_score(y_test, y_pred, normalize=True)\n",
    "# score\n"
   ]
  },
  {
   "cell_type": "code",
   "execution_count": 73,
   "metadata": {},
   "outputs": [],
   "source": [
    "# cf_lr_orig=confusion_matrix(y_test, y_pred)\n",
    "# fig, ax = plot_confusion_matrix(conf_mat=cf_lr_orig)"
   ]
  },
  {
   "cell_type": "code",
   "execution_count": null,
   "metadata": {},
   "outputs": [],
   "source": []
  },
  {
   "cell_type": "code",
   "execution_count": null,
   "metadata": {},
   "outputs": [],
   "source": []
  },
  {
   "cell_type": "code",
   "execution_count": 74,
   "metadata": {},
   "outputs": [
    {
     "data": {
      "text/plain": [
       "(0           0\n",
       " 1           2\n",
       " 2           3\n",
       " 3           9\n",
       " 4          11\n",
       "         ...  \n",
       " 3258    10861\n",
       " 3259    10865\n",
       " 3260    10868\n",
       " 3261    10874\n",
       " 3262    10875\n",
       " Name: id, Length: 3263, dtype: int64,\n",
       " array([0, 0, 0, ..., 0, 0, 0], dtype=int64))"
      ]
     },
     "execution_count": 74,
     "metadata": {},
     "output_type": "execute_result"
    }
   ],
   "source": [
    "data_test['id'],y_pred"
   ]
  },
  {
   "cell_type": "code",
   "execution_count": 75,
   "metadata": {},
   "outputs": [],
   "source": [
    "id=pd.DataFrame(data_test['id'])\n",
    "solution=pd.DataFrame(y_pred,columns=['target'])"
   ]
  },
  {
   "cell_type": "code",
   "execution_count": 76,
   "metadata": {},
   "outputs": [],
   "source": [
    "sample=pd.concat([id,solution],axis=1)"
   ]
  },
  {
   "cell_type": "code",
   "execution_count": 77,
   "metadata": {},
   "outputs": [
    {
     "data": {
      "text/html": [
       "<div>\n",
       "<style scoped>\n",
       "    .dataframe tbody tr th:only-of-type {\n",
       "        vertical-align: middle;\n",
       "    }\n",
       "\n",
       "    .dataframe tbody tr th {\n",
       "        vertical-align: top;\n",
       "    }\n",
       "\n",
       "    .dataframe thead th {\n",
       "        text-align: right;\n",
       "    }\n",
       "</style>\n",
       "<table border=\"1\" class=\"dataframe\">\n",
       "  <thead>\n",
       "    <tr style=\"text-align: right;\">\n",
       "      <th></th>\n",
       "      <th>id</th>\n",
       "      <th>target</th>\n",
       "    </tr>\n",
       "  </thead>\n",
       "  <tbody>\n",
       "    <tr>\n",
       "      <td>0</td>\n",
       "      <td>0</td>\n",
       "      <td>0</td>\n",
       "    </tr>\n",
       "    <tr>\n",
       "      <td>1</td>\n",
       "      <td>2</td>\n",
       "      <td>0</td>\n",
       "    </tr>\n",
       "    <tr>\n",
       "      <td>2</td>\n",
       "      <td>3</td>\n",
       "      <td>0</td>\n",
       "    </tr>\n",
       "    <tr>\n",
       "      <td>3</td>\n",
       "      <td>9</td>\n",
       "      <td>0</td>\n",
       "    </tr>\n",
       "    <tr>\n",
       "      <td>4</td>\n",
       "      <td>11</td>\n",
       "      <td>0</td>\n",
       "    </tr>\n",
       "    <tr>\n",
       "      <td>...</td>\n",
       "      <td>...</td>\n",
       "      <td>...</td>\n",
       "    </tr>\n",
       "    <tr>\n",
       "      <td>3258</td>\n",
       "      <td>10861</td>\n",
       "      <td>0</td>\n",
       "    </tr>\n",
       "    <tr>\n",
       "      <td>3259</td>\n",
       "      <td>10865</td>\n",
       "      <td>1</td>\n",
       "    </tr>\n",
       "    <tr>\n",
       "      <td>3260</td>\n",
       "      <td>10868</td>\n",
       "      <td>0</td>\n",
       "    </tr>\n",
       "    <tr>\n",
       "      <td>3261</td>\n",
       "      <td>10874</td>\n",
       "      <td>0</td>\n",
       "    </tr>\n",
       "    <tr>\n",
       "      <td>3262</td>\n",
       "      <td>10875</td>\n",
       "      <td>0</td>\n",
       "    </tr>\n",
       "  </tbody>\n",
       "</table>\n",
       "<p>3263 rows × 2 columns</p>\n",
       "</div>"
      ],
      "text/plain": [
       "         id  target\n",
       "0         0       0\n",
       "1         2       0\n",
       "2         3       0\n",
       "3         9       0\n",
       "4        11       0\n",
       "...     ...     ...\n",
       "3258  10861       0\n",
       "3259  10865       1\n",
       "3260  10868       0\n",
       "3261  10874       0\n",
       "3262  10875       0\n",
       "\n",
       "[3263 rows x 2 columns]"
      ]
     },
     "execution_count": 77,
     "metadata": {},
     "output_type": "execute_result"
    }
   ],
   "source": [
    "sample"
   ]
  },
  {
   "cell_type": "code",
   "execution_count": 78,
   "metadata": {},
   "outputs": [],
   "source": [
    "sample.to_csv('answers.csv',index=False)"
   ]
  },
  {
   "cell_type": "code",
   "execution_count": 79,
   "metadata": {},
   "outputs": [
    {
     "data": {
      "text/plain": [
       "LogisticRegressionCV(Cs=[0.1, 0.5, 1, 2, 5, 10], class_weight=None, cv=5,\n",
       "                     dual=False, fit_intercept=True, intercept_scaling=1.0,\n",
       "                     l1_ratios=None, max_iter=1000, multi_class='warn',\n",
       "                     n_jobs=-1, penalty='l2', random_state=None, refit=True,\n",
       "                     scoring=None, solver='lbfgs', tol=0.0001, verbose=0)"
      ]
     },
     "execution_count": 79,
     "metadata": {},
     "output_type": "execute_result"
    }
   ],
   "source": [
    "############ Logistic Regression CV with original features ######################\n",
    "l=[0.1,0.5,1,2,5,10]\n",
    "logregcv=LogisticRegressionCV(Cs=l,cv=5,solver='lbfgs',max_iter=1000,n_jobs=-1,penalty='l2')\n",
    "logregcv.fit(X_train_concatenate,y_train)\n"
   ]
  },
  {
   "cell_type": "code",
   "execution_count": 80,
   "metadata": {},
   "outputs": [],
   "source": [
    "y_pred_cv=logregcv.predict(X_test_concatenate)\n"
   ]
  },
  {
   "cell_type": "code",
   "execution_count": 81,
   "metadata": {},
   "outputs": [],
   "source": [
    "# cf_lr_orig_cv=confusion_matrix(y_test, y_pred_cv)\n",
    "# fig, ax = plot_confusion_matrix(conf_mat=cf_lr_orig_cv)"
   ]
  },
  {
   "cell_type": "code",
   "execution_count": 82,
   "metadata": {},
   "outputs": [
    {
     "name": "stdout",
     "output_type": "stream",
     "text": [
      "[0 0 0 ... 0 0 0]\n"
     ]
    }
   ],
   "source": [
    "print(y_pred_cv)"
   ]
  },
  {
   "cell_type": "code",
   "execution_count": 83,
   "metadata": {},
   "outputs": [],
   "source": [
    "id_cv=pd.DataFrame(data_test['id'])\n",
    "solution_cv=pd.DataFrame(y_pred_cv,columns=['target'])"
   ]
  },
  {
   "cell_type": "code",
   "execution_count": 84,
   "metadata": {},
   "outputs": [],
   "source": [
    "sample_cv=pd.concat([id_cv,solution_cv],axis=1)"
   ]
  },
  {
   "cell_type": "code",
   "execution_count": 85,
   "metadata": {},
   "outputs": [
    {
     "data": {
      "text/html": [
       "<div>\n",
       "<style scoped>\n",
       "    .dataframe tbody tr th:only-of-type {\n",
       "        vertical-align: middle;\n",
       "    }\n",
       "\n",
       "    .dataframe tbody tr th {\n",
       "        vertical-align: top;\n",
       "    }\n",
       "\n",
       "    .dataframe thead th {\n",
       "        text-align: right;\n",
       "    }\n",
       "</style>\n",
       "<table border=\"1\" class=\"dataframe\">\n",
       "  <thead>\n",
       "    <tr style=\"text-align: right;\">\n",
       "      <th></th>\n",
       "      <th>id</th>\n",
       "      <th>target</th>\n",
       "    </tr>\n",
       "  </thead>\n",
       "  <tbody>\n",
       "    <tr>\n",
       "      <td>0</td>\n",
       "      <td>0</td>\n",
       "      <td>0</td>\n",
       "    </tr>\n",
       "    <tr>\n",
       "      <td>1</td>\n",
       "      <td>2</td>\n",
       "      <td>0</td>\n",
       "    </tr>\n",
       "    <tr>\n",
       "      <td>2</td>\n",
       "      <td>3</td>\n",
       "      <td>0</td>\n",
       "    </tr>\n",
       "    <tr>\n",
       "      <td>3</td>\n",
       "      <td>9</td>\n",
       "      <td>0</td>\n",
       "    </tr>\n",
       "    <tr>\n",
       "      <td>4</td>\n",
       "      <td>11</td>\n",
       "      <td>0</td>\n",
       "    </tr>\n",
       "    <tr>\n",
       "      <td>...</td>\n",
       "      <td>...</td>\n",
       "      <td>...</td>\n",
       "    </tr>\n",
       "    <tr>\n",
       "      <td>3258</td>\n",
       "      <td>10861</td>\n",
       "      <td>0</td>\n",
       "    </tr>\n",
       "    <tr>\n",
       "      <td>3259</td>\n",
       "      <td>10865</td>\n",
       "      <td>1</td>\n",
       "    </tr>\n",
       "    <tr>\n",
       "      <td>3260</td>\n",
       "      <td>10868</td>\n",
       "      <td>0</td>\n",
       "    </tr>\n",
       "    <tr>\n",
       "      <td>3261</td>\n",
       "      <td>10874</td>\n",
       "      <td>0</td>\n",
       "    </tr>\n",
       "    <tr>\n",
       "      <td>3262</td>\n",
       "      <td>10875</td>\n",
       "      <td>0</td>\n",
       "    </tr>\n",
       "  </tbody>\n",
       "</table>\n",
       "<p>3263 rows × 2 columns</p>\n",
       "</div>"
      ],
      "text/plain": [
       "         id  target\n",
       "0         0       0\n",
       "1         2       0\n",
       "2         3       0\n",
       "3         9       0\n",
       "4        11       0\n",
       "...     ...     ...\n",
       "3258  10861       0\n",
       "3259  10865       1\n",
       "3260  10868       0\n",
       "3261  10874       0\n",
       "3262  10875       0\n",
       "\n",
       "[3263 rows x 2 columns]"
      ]
     },
     "execution_count": 85,
     "metadata": {},
     "output_type": "execute_result"
    }
   ],
   "source": [
    "sample_cv"
   ]
  },
  {
   "cell_type": "code",
   "execution_count": 86,
   "metadata": {},
   "outputs": [],
   "source": [
    "sample_cv.to_csv('answers_cv.csv',index=False)"
   ]
  },
  {
   "cell_type": "code",
   "execution_count": null,
   "metadata": {},
   "outputs": [],
   "source": []
  },
  {
   "cell_type": "code",
   "execution_count": null,
   "metadata": {},
   "outputs": [],
   "source": []
  },
  {
   "cell_type": "code",
   "execution_count": null,
   "metadata": {},
   "outputs": [],
   "source": []
  },
  {
   "cell_type": "code",
   "execution_count": null,
   "metadata": {},
   "outputs": [],
   "source": []
  },
  {
   "cell_type": "code",
   "execution_count": null,
   "metadata": {},
   "outputs": [],
   "source": []
  },
  {
   "cell_type": "code",
   "execution_count": null,
   "metadata": {},
   "outputs": [],
   "source": []
  }
 ],
 "metadata": {
  "kernelspec": {
   "display_name": "Python 3",
   "language": "python",
   "name": "python3"
  },
  "language_info": {
   "codemirror_mode": {
    "name": "ipython",
    "version": 3
   },
   "file_extension": ".py",
   "mimetype": "text/x-python",
   "name": "python",
   "nbconvert_exporter": "python",
   "pygments_lexer": "ipython3",
   "version": "3.7.4"
  }
 },
 "nbformat": 4,
 "nbformat_minor": 4
}
