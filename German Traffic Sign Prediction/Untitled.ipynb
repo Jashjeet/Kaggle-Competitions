{
 "cells": [
  {
   "cell_type": "code",
   "execution_count": 1,
   "metadata": {},
   "outputs": [],
   "source": [
    "import pandas as pd\n",
    "import numpy as np\n",
    "import matplotlib.pyplot as plt\n",
    "import os\n",
    "import collections\n",
    "import cv2\n",
    "import seaborn as sns"
   ]
  },
  {
   "cell_type": "code",
   "execution_count": 2,
   "metadata": {},
   "outputs": [
    {
     "name": "stderr",
     "output_type": "stream",
     "text": [
      "Using TensorFlow backend.\n"
     ]
    }
   ],
   "source": [
    "import keras\n",
    "from keras.layers import Flatten, Dense, Conv2D, MaxPooling2D, BatchNormalization, Dropout, MaxPool2D, AvgPool2D\n",
    "from keras.models import Sequential\n",
    "from keras.callbacks import LearningRateScheduler\n",
    "from keras.utils.np_utils import to_categorical"
   ]
  },
  {
   "cell_type": "code",
   "execution_count": 3,
   "metadata": {},
   "outputs": [],
   "source": [
    "import tensorflow"
   ]
  },
  {
   "cell_type": "code",
   "execution_count": 4,
   "metadata": {},
   "outputs": [],
   "source": [
    "import collections"
   ]
  },
  {
   "cell_type": "code",
   "execution_count": 5,
   "metadata": {},
   "outputs": [
    {
     "data": {
      "text/plain": [
       "'C:\\\\Users\\\\jashj\\\\Desktop\\\\Kaggle\\\\German Traffic Sign Prediction'"
      ]
     },
     "execution_count": 5,
     "metadata": {},
     "output_type": "execute_result"
    }
   ],
   "source": [
    "os.getcwd()"
   ]
  },
  {
   "cell_type": "code",
   "execution_count": null,
   "metadata": {},
   "outputs": [],
   "source": []
  },
  {
   "cell_type": "code",
   "execution_count": 6,
   "metadata": {},
   "outputs": [],
   "source": [
    "data0=pd.read_pickle('data0.pickle')"
   ]
  },
  {
   "cell_type": "code",
   "execution_count": null,
   "metadata": {},
   "outputs": [],
   "source": []
  },
  {
   "cell_type": "code",
   "execution_count": null,
   "metadata": {},
   "outputs": [],
   "source": []
  },
  {
   "cell_type": "code",
   "execution_count": null,
   "metadata": {},
   "outputs": [],
   "source": []
  },
  {
   "cell_type": "markdown",
   "metadata": {},
   "source": [
    "# Reading the Data"
   ]
  },
  {
   "cell_type": "code",
   "execution_count": 7,
   "metadata": {},
   "outputs": [
    {
     "data": {
      "text/plain": [
       "dict_keys(['x_test', 'y_validation', 'x_validation', 'labels', 'x_train', 'y_test', 'y_train'])"
      ]
     },
     "execution_count": 7,
     "metadata": {},
     "output_type": "execute_result"
    }
   ],
   "source": [
    "data0.keys()"
   ]
  },
  {
   "cell_type": "code",
   "execution_count": 8,
   "metadata": {},
   "outputs": [],
   "source": [
    "data0=pd.read_pickle('data0.pickle')\n",
    "X_test=data0['x_test']\n",
    "y_valid=data0['y_validation']\n",
    "X_valid=data0['x_validation']\n",
    "labels=data0['labels']\n",
    "X_train=data0['x_train']\n",
    "y_test=data0['y_test']\n",
    "y_train=data0['y_train']"
   ]
  },
  {
   "cell_type": "code",
   "execution_count": 9,
   "metadata": {},
   "outputs": [],
   "source": [
    "a=enumerate(labels)"
   ]
  },
  {
   "cell_type": "code",
   "execution_count": null,
   "metadata": {},
   "outputs": [],
   "source": []
  },
  {
   "cell_type": "code",
   "execution_count": 10,
   "metadata": {},
   "outputs": [
    {
     "name": "stdout",
     "output_type": "stream",
     "text": [
      "(0, 'Speed limit (20km/h)')\n",
      "(1, 'Speed limit (30km/h)')\n",
      "(2, 'Speed limit (50km/h)')\n",
      "(3, 'Speed limit (60km/h)')\n",
      "(4, 'Speed limit (70km/h)')\n",
      "(5, 'Speed limit (80km/h)')\n",
      "(6, 'End of speed limit (80km/h)')\n",
      "(7, 'Speed limit (100km/h)')\n",
      "(8, 'Speed limit (120km/h)')\n",
      "(9, 'No passing')\n",
      "(10, 'No passing for vehicles over 3.5 metric tons')\n",
      "(11, 'Right-of-way at the next intersection')\n",
      "(12, 'Priority road')\n",
      "(13, 'Yield')\n",
      "(14, 'Stop')\n",
      "(15, 'No vehicles')\n",
      "(16, 'Vehicles over 3.5 metric tons prohibited')\n",
      "(17, 'No entry')\n",
      "(18, 'General caution')\n",
      "(19, 'Dangerous curve to the left')\n",
      "(20, 'Dangerous curve to the right')\n",
      "(21, 'Double curve')\n",
      "(22, 'Bumpy road')\n",
      "(23, 'Slippery road')\n",
      "(24, 'Road narrows on the right')\n",
      "(25, 'Road work')\n",
      "(26, 'Traffic signals')\n",
      "(27, 'Pedestrians')\n",
      "(28, 'Children crossing')\n",
      "(29, 'Bicycles crossing')\n",
      "(30, 'Beware of ice/snow')\n",
      "(31, 'Wild animals crossing')\n",
      "(32, 'End of all speed and passing limits')\n",
      "(33, 'Turn right ahead')\n",
      "(34, 'Turn left ahead')\n",
      "(35, 'Ahead only')\n",
      "(36, 'Go straight or right')\n",
      "(37, 'Go straight or left')\n",
      "(38, 'Keep right')\n",
      "(39, 'Keep left')\n",
      "(40, 'Roundabout mandatory')\n",
      "(41, 'End of no passing')\n",
      "(42, 'End of no passing by vehicles over 3.5 metric tons')\n"
     ]
    }
   ],
   "source": [
    "for i in a:\n",
    "    print(i)"
   ]
  },
  {
   "cell_type": "code",
   "execution_count": 11,
   "metadata": {},
   "outputs": [
    {
     "data": {
      "text/plain": [
       "['Speed limit (20km/h)',\n",
       " 'Speed limit (30km/h)',\n",
       " 'Speed limit (50km/h)',\n",
       " 'Speed limit (60km/h)',\n",
       " 'Speed limit (70km/h)',\n",
       " 'Speed limit (80km/h)',\n",
       " 'End of speed limit (80km/h)',\n",
       " 'Speed limit (100km/h)',\n",
       " 'Speed limit (120km/h)',\n",
       " 'No passing',\n",
       " 'No passing for vehicles over 3.5 metric tons',\n",
       " 'Right-of-way at the next intersection',\n",
       " 'Priority road',\n",
       " 'Yield',\n",
       " 'Stop',\n",
       " 'No vehicles',\n",
       " 'Vehicles over 3.5 metric tons prohibited',\n",
       " 'No entry',\n",
       " 'General caution',\n",
       " 'Dangerous curve to the left',\n",
       " 'Dangerous curve to the right',\n",
       " 'Double curve',\n",
       " 'Bumpy road',\n",
       " 'Slippery road',\n",
       " 'Road narrows on the right',\n",
       " 'Road work',\n",
       " 'Traffic signals',\n",
       " 'Pedestrians',\n",
       " 'Children crossing',\n",
       " 'Bicycles crossing',\n",
       " 'Beware of ice/snow',\n",
       " 'Wild animals crossing',\n",
       " 'End of all speed and passing limits',\n",
       " 'Turn right ahead',\n",
       " 'Turn left ahead',\n",
       " 'Ahead only',\n",
       " 'Go straight or right',\n",
       " 'Go straight or left',\n",
       " 'Keep right',\n",
       " 'Keep left',\n",
       " 'Roundabout mandatory',\n",
       " 'End of no passing',\n",
       " 'End of no passing by vehicles over 3.5 metric tons']"
      ]
     },
     "execution_count": 11,
     "metadata": {},
     "output_type": "execute_result"
    }
   ],
   "source": [
    "labels"
   ]
  },
  {
   "cell_type": "markdown",
   "metadata": {},
   "source": [
    "# One Hot Encoding"
   ]
  },
  {
   "cell_type": "code",
   "execution_count": 12,
   "metadata": {},
   "outputs": [
    {
     "data": {
      "text/plain": [
       "array([37, 27, 38, ..., 11, 14, 30], dtype=int64)"
      ]
     },
     "execution_count": 12,
     "metadata": {},
     "output_type": "execute_result"
    }
   ],
   "source": [
    "y_train"
   ]
  },
  {
   "cell_type": "code",
   "execution_count": 13,
   "metadata": {},
   "outputs": [
    {
     "data": {
      "text/plain": [
       "array([ 9, 37, 31, ...,  5, 18,  6], dtype=uint8)"
      ]
     },
     "execution_count": 13,
     "metadata": {},
     "output_type": "execute_result"
    }
   ],
   "source": [
    "y_valid"
   ]
  },
  {
   "cell_type": "code",
   "execution_count": 14,
   "metadata": {},
   "outputs": [
    {
     "data": {
      "text/plain": [
       "array([25, 11, 38, ...,  8, 33, 10], dtype=uint8)"
      ]
     },
     "execution_count": 14,
     "metadata": {},
     "output_type": "execute_result"
    }
   ],
   "source": [
    "y_test"
   ]
  },
  {
   "cell_type": "code",
   "execution_count": 15,
   "metadata": {},
   "outputs": [
    {
     "data": {
      "text/plain": [
       "array([[0., 0., 0., ..., 0., 0., 0.],\n",
       "       [0., 0., 0., ..., 0., 0., 0.],\n",
       "       [0., 0., 0., ..., 0., 0., 0.],\n",
       "       ...,\n",
       "       [0., 0., 0., ..., 0., 0., 0.],\n",
       "       [0., 0., 0., ..., 0., 0., 0.],\n",
       "       [0., 0., 0., ..., 0., 0., 0.]], dtype=float32)"
      ]
     },
     "execution_count": 15,
     "metadata": {},
     "output_type": "execute_result"
    }
   ],
   "source": [
    "y_train = to_categorical(y_train, num_classes=43)\n",
    "y_train"
   ]
  },
  {
   "cell_type": "code",
   "execution_count": 16,
   "metadata": {},
   "outputs": [
    {
     "data": {
      "text/plain": [
       "array([[0., 0., 0., ..., 0., 0., 0.],\n",
       "       [0., 0., 0., ..., 0., 0., 0.],\n",
       "       [0., 0., 0., ..., 0., 0., 0.],\n",
       "       ...,\n",
       "       [0., 0., 0., ..., 0., 0., 0.],\n",
       "       [0., 0., 0., ..., 0., 0., 0.],\n",
       "       [0., 0., 0., ..., 0., 0., 0.]], dtype=float32)"
      ]
     },
     "execution_count": 16,
     "metadata": {},
     "output_type": "execute_result"
    }
   ],
   "source": [
    "y_valid = to_categorical(y_valid, num_classes=43)\n",
    "y_valid"
   ]
  },
  {
   "cell_type": "code",
   "execution_count": 17,
   "metadata": {},
   "outputs": [
    {
     "data": {
      "text/plain": [
       "array([[0., 0., 0., ..., 0., 0., 0.],\n",
       "       [0., 0., 0., ..., 0., 0., 0.],\n",
       "       [0., 0., 0., ..., 0., 0., 0.],\n",
       "       ...,\n",
       "       [0., 0., 0., ..., 0., 0., 0.],\n",
       "       [0., 0., 0., ..., 0., 0., 0.],\n",
       "       [0., 0., 0., ..., 0., 0., 0.]], dtype=float32)"
      ]
     },
     "execution_count": 17,
     "metadata": {},
     "output_type": "execute_result"
    }
   ],
   "source": [
    "y_test = to_categorical(y_test, num_classes=43)\n",
    "y_test"
   ]
  },
  {
   "cell_type": "markdown",
   "metadata": {},
   "source": [
    "# Transposing the dataset to get the correct image arrays"
   ]
  },
  {
   "cell_type": "code",
   "execution_count": 18,
   "metadata": {},
   "outputs": [],
   "source": [
    "X_train=np.transpose(X_train,axes=[0,2,3,1])\n",
    "\n",
    "X_valid=np.transpose(X_valid,axes=[0,2,3,1])\n",
    "\n",
    "X_test=np.transpose(X_test,axes=[0,2,3,1])"
   ]
  },
  {
   "cell_type": "code",
   "execution_count": 19,
   "metadata": {},
   "outputs": [],
   "source": [
    "X_train=X_train/255"
   ]
  },
  {
   "cell_type": "code",
   "execution_count": 20,
   "metadata": {},
   "outputs": [],
   "source": [
    "X_valid=X_valid/255\n",
    "X_test=X_test/255"
   ]
  },
  {
   "cell_type": "markdown",
   "metadata": {},
   "source": [
    "# Plotting images"
   ]
  },
  {
   "cell_type": "code",
   "execution_count": 21,
   "metadata": {},
   "outputs": [
    {
     "data": {
      "text/plain": [
       "(86989, 32, 32, 3)"
      ]
     },
     "execution_count": 21,
     "metadata": {},
     "output_type": "execute_result"
    }
   ],
   "source": [
    "X_train.shape"
   ]
  },
  {
   "cell_type": "code",
   "execution_count": 22,
   "metadata": {},
   "outputs": [
    {
     "data": {
      "text/plain": [
       "<matplotlib.image.AxesImage at 0x2179d9d3fc8>"
      ]
     },
     "execution_count": 22,
     "metadata": {},
     "output_type": "execute_result"
    },
    {
     "data": {
      "image/png": "[encoded data removed]",
      "text/plain": [
       "<Figure size 432x288 with 1 Axes>"
      ]
     },
     "metadata": {
      "needs_background": "light"
     },
     "output_type": "display_data"
    }
   ],
   "source": [
    "plt.imshow(X_train[1])"
   ]
  },
  {
   "cell_type": "code",
   "execution_count": 23,
   "metadata": {},
   "outputs": [
    {
     "data": {
      "text/plain": [
       "array([0., 0., 0., 0., 0., 0., 0., 0., 0., 0., 0., 0., 0., 0., 0., 0., 0.,\n",
       "       0., 0., 0., 0., 0., 0., 0., 0., 0., 0., 1., 0., 0., 0., 0., 0., 0.,\n",
       "       0., 0., 0., 0., 0., 0., 0., 0., 0.], dtype=float32)"
      ]
     },
     "execution_count": 23,
     "metadata": {},
     "output_type": "execute_result"
    }
   ],
   "source": [
    "y_train[1]"
   ]
  },
  {
   "cell_type": "code",
   "execution_count": 24,
   "metadata": {},
   "outputs": [
    {
     "data": {
      "text/plain": [
       "27"
      ]
     },
     "execution_count": 24,
     "metadata": {},
     "output_type": "execute_result"
    }
   ],
   "source": [
    "np.argmax(y_train[1])"
   ]
  },
  {
   "cell_type": "code",
   "execution_count": 25,
   "metadata": {},
   "outputs": [
    {
     "data": {
      "text/plain": [
       "'Pedestrians'"
      ]
     },
     "execution_count": 25,
     "metadata": {},
     "output_type": "execute_result"
    }
   ],
   "source": [
    "labels[np.argmax(y_train[1])]"
   ]
  },
  {
   "cell_type": "code",
   "execution_count": 26,
   "metadata": {},
   "outputs": [],
   "source": [
    "counts=collections.Counter(data0['y_train'])"
   ]
  },
  {
   "cell_type": "code",
   "execution_count": 27,
   "metadata": {},
   "outputs": [
    {
     "data": {
      "text/plain": [
       "Counter({37: 2023,\n",
       "         27: 2023,\n",
       "         38: 2023,\n",
       "         28: 2023,\n",
       "         42: 2023,\n",
       "         4: 2023,\n",
       "         7: 2023,\n",
       "         29: 2023,\n",
       "         17: 2023,\n",
       "         23: 2023,\n",
       "         33: 2023,\n",
       "         39: 2023,\n",
       "         41: 2023,\n",
       "         14: 2023,\n",
       "         18: 2023,\n",
       "         35: 2023,\n",
       "         6: 2023,\n",
       "         5: 2023,\n",
       "         31: 2023,\n",
       "         26: 2023,\n",
       "         34: 2023,\n",
       "         12: 2023,\n",
       "         13: 2023,\n",
       "         24: 2023,\n",
       "         8: 2023,\n",
       "         0: 2023,\n",
       "         20: 2023,\n",
       "         2: 2023,\n",
       "         1: 2023,\n",
       "         40: 2023,\n",
       "         3: 2023,\n",
       "         25: 2023,\n",
       "         11: 2023,\n",
       "         9: 2023,\n",
       "         21: 2023,\n",
       "         22: 2023,\n",
       "         36: 2023,\n",
       "         15: 2023,\n",
       "         30: 2023,\n",
       "         16: 2023,\n",
       "         10: 2023,\n",
       "         19: 2023,\n",
       "         32: 2023})"
      ]
     },
     "execution_count": 27,
     "metadata": {},
     "output_type": "execute_result"
    }
   ],
   "source": [
    "counts"
   ]
  },
  {
   "cell_type": "code",
   "execution_count": null,
   "metadata": {},
   "outputs": [],
   "source": []
  },
  {
   "cell_type": "markdown",
   "metadata": {},
   "source": [
    "# Defining Model"
   ]
  },
  {
   "cell_type": "code",
   "execution_count": 28,
   "metadata": {},
   "outputs": [
    {
     "name": "stdout",
     "output_type": "stream",
     "text": [
      "Model: \"sequential_1\"\n",
      "_________________________________________________________________\n",
      "Layer (type)                 Output Shape              Param #   \n",
      "=================================================================\n",
      "conv2d_1 (Conv2D)            (None, 32, 32, 32)        896       \n",
      "_________________________________________________________________\n",
      "max_pooling2d_1 (MaxPooling2 (None, 16, 16, 32)        0         \n",
      "_________________________________________________________________\n",
      "conv2d_2 (Conv2D)            (None, 16, 16, 32)        9248      \n",
      "_________________________________________________________________\n",
      "max_pooling2d_2 (MaxPooling2 (None, 8, 8, 32)          0         \n",
      "_________________________________________________________________\n",
      "conv2d_3 (Conv2D)            (None, 8, 8, 32)          9248      \n",
      "_________________________________________________________________\n",
      "max_pooling2d_3 (MaxPooling2 (None, 4, 4, 32)          0         \n",
      "_________________________________________________________________\n",
      "flatten_1 (Flatten)          (None, 512)               0         \n",
      "_________________________________________________________________\n",
      "dense_1 (Dense)              (None, 128)               65664     \n",
      "_________________________________________________________________\n",
      "batch_normalization_1 (Batch (None, 128)               512       \n",
      "_________________________________________________________________\n",
      "dense_2 (Dense)              (None, 43)                5547      \n",
      "=================================================================\n",
      "Total params: 91,115\n",
      "Trainable params: 90,859\n",
      "Non-trainable params: 256\n",
      "_________________________________________________________________\n"
     ]
    }
   ],
   "source": [
    "model=Sequential()\n",
    "\n",
    "model.add(Conv2D(filters=32, kernel_size=3, padding='same', activation='relu',input_shape=(32,32, 3)))\n",
    "\n",
    "model.add(MaxPooling2D(pool_size=2))\n",
    "\n",
    "model.add(Conv2D(filters=32, kernel_size=3, padding='same', activation='relu'))\n",
    "\n",
    "model.add(MaxPooling2D(pool_size=2))\n",
    "\n",
    "model.add(Conv2D(filters=32, kernel_size=3, padding='same', activation='relu'))\n",
    "\n",
    "model.add(MaxPooling2D(pool_size=2))\n",
    "\n",
    "model.add(Flatten())\n",
    "\n",
    "model.add(Dense(128, activation='relu'))\n",
    "\n",
    "model.add(BatchNormalization())\n",
    "\n",
    "model.add(Dense(43, activation='softmax'))\n",
    "\n",
    "model.summary()"
   ]
  },
  {
   "cell_type": "code",
   "execution_count": 29,
   "metadata": {},
   "outputs": [],
   "source": [
    "model.compile(optimizer='adam',loss='categorical_crossentropy',metrics=['accuracy', 'mse'])"
   ]
  },
  {
   "cell_type": "code",
   "execution_count": 34,
   "metadata": {},
   "outputs": [
    {
     "name": "stdout",
     "output_type": "stream",
     "text": [
      "Train on 86989 samples, validate on 4410 samples\n",
      "Epoch 1/2\n",
      "86989/86989 [==============================] - 48s 548us/step - loss: 0.0073 - accuracy: 0.9981 - mse: 7.1968e-05 - val_loss: 0.1909 - val_accuracy: 0.9639 - val_mse: 0.0013\n",
      "Epoch 2/2\n",
      "86989/86989 [==============================] - 50s 576us/step - loss: 0.0030 - accuracy: 0.9995 - mse: 2.3776e-05 - val_loss: 0.1871 - val_accuracy: 0.9667 - val_mse: 0.0012\n"
     ]
    }
   ],
   "source": [
    "history = model.fit(X_train, y_train,validation_data=(X_valid,y_valid),epochs=2,batch_size=64)"
   ]
  },
  {
   "cell_type": "code",
   "execution_count": 35,
   "metadata": {},
   "outputs": [
    {
     "name": "stdout",
     "output_type": "stream",
     "text": [
      "Test accuracy: [0.2030125467932576, 0.9556611180305481, 0.0016279444098472595]\n"
     ]
    }
   ],
   "source": [
    "score = model.evaluate(X_test,y_test,verbose=0)\n",
    "print('Test accuracy:', score)"
   ]
  },
  {
   "cell_type": "code",
   "execution_count": null,
   "metadata": {},
   "outputs": [],
   "source": []
  },
  {
   "cell_type": "code",
   "execution_count": null,
   "metadata": {},
   "outputs": [],
   "source": []
  }
 ],
 "metadata": {
  "kernelspec": {
   "display_name": "Python 3",
   "language": "python",
   "name": "python3"
  },
  "language_info": {
   "codemirror_mode": {
    "name": "ipython",
    "version": 3
   },
   "file_extension": ".py",
   "mimetype": "text/x-python",
   "name": "python",
   "nbconvert_exporter": "python",
   "pygments_lexer": "ipython3",
   "version": "3.7.4"
  }
 },
 "nbformat": 4,
 "nbformat_minor": 2
}
